{
  "nbformat": 4,
  "nbformat_minor": 0,
  "metadata": {
    "colab": {
      "provenance": [],
      "authorship_tag": "ABX9TyOkp9BpNX/dGFCiCGgUT+zC",
      "include_colab_link": true
    },
    "kernelspec": {
      "name": "python3",
      "display_name": "Python 3"
    },
    "language_info": {
      "name": "python"
    }
  },
  "cells": [
    {
      "cell_type": "markdown",
      "metadata": {
        "id": "view-in-github",
        "colab_type": "text"
      },
      "source": [
        "<a href=\"https://colab.research.google.com/github/elenasofia98/PracticalNLP-2023-2024/blob/main/HoL04_2_WordNet%26SentenceSimilarity.ipynb\" target=\"_parent\"><img src=\"https://colab.research.google.com/assets/colab-badge.svg\" alt=\"Open In Colab\"/></a>"
      ]
    },
    {
      "cell_type": "code",
      "source": [
        "import nltk\n",
        "\n",
        "nltk.download('wordnet')"
      ],
      "metadata": {
        "colab": {
          "base_uri": "https://localhost:8080/"
        },
        "id": "HR0tlegXzlEg",
        "outputId": "14e603ca-0881-467f-dba6-bf8c9dabe88c"
      },
      "execution_count": null,
      "outputs": [
        {
          "output_type": "stream",
          "name": "stderr",
          "text": [
            "[nltk_data] Downloading package wordnet to /root/nltk_data...\n",
            "[nltk_data]   Package wordnet is already up-to-date!\n"
          ]
        },
        {
          "output_type": "execute_result",
          "data": {
            "text/plain": [
              "True"
            ]
          },
          "metadata": {},
          "execution_count": 1
        }
      ]
    },
    {
      "cell_type": "code",
      "source": [
        "!pip install datasets"
      ],
      "metadata": {
        "colab": {
          "base_uri": "https://localhost:8080/"
        },
        "id": "zL75Kvy72qdg",
        "outputId": "e6aceb24-449f-44d3-c127-d0740f025c7a"
      },
      "execution_count": null,
      "outputs": [
        {
          "output_type": "stream",
          "name": "stdout",
          "text": [
            "Requirement already satisfied: datasets in /usr/local/lib/python3.10/dist-packages (2.15.0)\n",
            "Requirement already satisfied: numpy>=1.17 in /usr/local/lib/python3.10/dist-packages (from datasets) (1.23.5)\n",
            "Requirement already satisfied: pyarrow>=8.0.0 in /usr/local/lib/python3.10/dist-packages (from datasets) (9.0.0)\n",
            "Requirement already satisfied: pyarrow-hotfix in /usr/local/lib/python3.10/dist-packages (from datasets) (0.6)\n",
            "Requirement already satisfied: dill<0.3.8,>=0.3.0 in /usr/local/lib/python3.10/dist-packages (from datasets) (0.3.7)\n",
            "Requirement already satisfied: pandas in /usr/local/lib/python3.10/dist-packages (from datasets) (1.5.3)\n",
            "Requirement already satisfied: requests>=2.19.0 in /usr/local/lib/python3.10/dist-packages (from datasets) (2.31.0)\n",
            "Requirement already satisfied: tqdm>=4.62.1 in /usr/local/lib/python3.10/dist-packages (from datasets) (4.66.1)\n",
            "Requirement already satisfied: xxhash in /usr/local/lib/python3.10/dist-packages (from datasets) (3.4.1)\n",
            "Requirement already satisfied: multiprocess in /usr/local/lib/python3.10/dist-packages (from datasets) (0.70.15)\n",
            "Requirement already satisfied: fsspec[http]<=2023.10.0,>=2023.1.0 in /usr/local/lib/python3.10/dist-packages (from datasets) (2023.6.0)\n",
            "Requirement already satisfied: aiohttp in /usr/local/lib/python3.10/dist-packages (from datasets) (3.9.1)\n",
            "Requirement already satisfied: huggingface-hub>=0.18.0 in /usr/local/lib/python3.10/dist-packages (from datasets) (0.19.4)\n",
            "Requirement already satisfied: packaging in /usr/local/lib/python3.10/dist-packages (from datasets) (23.2)\n",
            "Requirement already satisfied: pyyaml>=5.1 in /usr/local/lib/python3.10/dist-packages (from datasets) (6.0.1)\n",
            "Requirement already satisfied: attrs>=17.3.0 in /usr/local/lib/python3.10/dist-packages (from aiohttp->datasets) (23.1.0)\n",
            "Requirement already satisfied: multidict<7.0,>=4.5 in /usr/local/lib/python3.10/dist-packages (from aiohttp->datasets) (6.0.4)\n",
            "Requirement already satisfied: yarl<2.0,>=1.0 in /usr/local/lib/python3.10/dist-packages (from aiohttp->datasets) (1.9.3)\n",
            "Requirement already satisfied: frozenlist>=1.1.1 in /usr/local/lib/python3.10/dist-packages (from aiohttp->datasets) (1.4.0)\n",
            "Requirement already satisfied: aiosignal>=1.1.2 in /usr/local/lib/python3.10/dist-packages (from aiohttp->datasets) (1.3.1)\n",
            "Requirement already satisfied: async-timeout<5.0,>=4.0 in /usr/local/lib/python3.10/dist-packages (from aiohttp->datasets) (4.0.3)\n",
            "Requirement already satisfied: filelock in /usr/local/lib/python3.10/dist-packages (from huggingface-hub>=0.18.0->datasets) (3.13.1)\n",
            "Requirement already satisfied: typing-extensions>=3.7.4.3 in /usr/local/lib/python3.10/dist-packages (from huggingface-hub>=0.18.0->datasets) (4.5.0)\n",
            "Requirement already satisfied: charset-normalizer<4,>=2 in /usr/local/lib/python3.10/dist-packages (from requests>=2.19.0->datasets) (3.3.2)\n",
            "Requirement already satisfied: idna<4,>=2.5 in /usr/local/lib/python3.10/dist-packages (from requests>=2.19.0->datasets) (3.6)\n",
            "Requirement already satisfied: urllib3<3,>=1.21.1 in /usr/local/lib/python3.10/dist-packages (from requests>=2.19.0->datasets) (2.0.7)\n",
            "Requirement already satisfied: certifi>=2017.4.17 in /usr/local/lib/python3.10/dist-packages (from requests>=2.19.0->datasets) (2023.11.17)\n",
            "Requirement already satisfied: python-dateutil>=2.8.1 in /usr/local/lib/python3.10/dist-packages (from pandas->datasets) (2.8.2)\n",
            "Requirement already satisfied: pytz>=2020.1 in /usr/local/lib/python3.10/dist-packages (from pandas->datasets) (2023.3.post1)\n",
            "Requirement already satisfied: six>=1.5 in /usr/local/lib/python3.10/dist-packages (from python-dateutil>=2.8.1->pandas->datasets) (1.16.0)\n"
          ]
        }
      ]
    },
    {
      "cell_type": "code",
      "execution_count": null,
      "metadata": {
        "id": "x5R4ZQD8zWJI"
      },
      "outputs": [],
      "source": [
        "from nltk.corpus import wordnet as wn\n",
        "import pandas as pd\n",
        "from datasets import load_dataset\n",
        "\n",
        "dataset = load_dataset(\"imdb\", split={'train':'train', 'test':'test'})"
      ]
    },
    {
      "cell_type": "code",
      "source": [
        "dataset"
      ],
      "metadata": {
        "colab": {
          "base_uri": "https://localhost:8080/"
        },
        "id": "H4MlXiVx38db",
        "outputId": "d9127f73-0be3-4dea-9a03-0c6bbf1aa6f8"
      },
      "execution_count": null,
      "outputs": [
        {
          "output_type": "execute_result",
          "data": {
            "text/plain": [
              "DatasetDict({\n",
              "    train: Dataset({\n",
              "        features: ['text', 'label'],\n",
              "        num_rows: 25000\n",
              "    })\n",
              "    test: Dataset({\n",
              "        features: ['text', 'label'],\n",
              "        num_rows: 25000\n",
              "    })\n",
              "})"
            ]
          },
          "metadata": {},
          "execution_count": 4
        }
      ]
    },
    {
      "cell_type": "code",
      "source": [
        "dataset['train'][0]"
      ],
      "metadata": {
        "colab": {
          "base_uri": "https://localhost:8080/"
        },
        "id": "Zcb6g87Iz_cd",
        "outputId": "741e34dd-2dd6-475c-88d9-44f96139cb70"
      },
      "execution_count": null,
      "outputs": [
        {
          "output_type": "execute_result",
          "data": {
            "text/plain": [
              "{'text': 'I rented I AM CURIOUS-YELLOW from my video store because of all the controversy that surrounded it when it was first released in 1967. I also heard that at first it was seized by U.S. customs if it ever tried to enter this country, therefore being a fan of films considered \"controversial\" I really had to see this for myself.<br /><br />The plot is centered around a young Swedish drama student named Lena who wants to learn everything she can about life. In particular she wants to focus her attentions to making some sort of documentary on what the average Swede thought about certain political issues such as the Vietnam War and race issues in the United States. In between asking politicians and ordinary denizens of Stockholm about their opinions on politics, she has sex with her drama teacher, classmates, and married men.<br /><br />What kills me about I AM CURIOUS-YELLOW is that 40 years ago, this was considered pornographic. Really, the sex and nudity scenes are few and far between, even then it\\'s not shot like some cheaply made porno. While my countrymen mind find it shocking, in reality sex and nudity are a major staple in Swedish cinema. Even Ingmar Bergman, arguably their answer to good old boy John Ford, had sex scenes in his films.<br /><br />I do commend the filmmakers for the fact that any sex shown in the film is shown for artistic purposes rather than just to shock people and make money to be shown in pornographic theaters in America. I AM CURIOUS-YELLOW is a good film for anyone wanting to study the meat and potatoes (no pun intended) of Swedish cinema. But really, this film doesn\\'t have much of a plot.',\n",
              " 'label': 0}"
            ]
          },
          "metadata": {},
          "execution_count": 5
        }
      ]
    },
    {
      "cell_type": "code",
      "source": [
        "# libraries help to clean & normalize texts\n",
        "# https://www.kaggle.com/code/amustafa4983/sentiment-analysis-on-imdb-movie-reviews/notebook\n",
        "import re\n",
        "import string\n",
        "import nltk\n",
        "from nltk.corpus import stopwords\n",
        "from nltk import word_tokenize, pos_tag\n",
        "\n",
        "nltk.download('stopwords')\n",
        "nltk.download('punkt')\n",
        "\n",
        "def remove_punctuation(text):\n",
        "    table = str.maketrans('','',string.punctuation)\n",
        "    words = text.split()\n",
        "    filtered_sentence = ''\n",
        "    for word in words:\n",
        "        word = word.translate(table)\n",
        "        filtered_sentence = filtered_sentence + word + ' '\n",
        "    return filtered_sentence\n",
        "\n",
        "def normalize_text(text):\n",
        "    text = text.lower()\n",
        "    # get rid of urls\n",
        "    text = re.sub('https?://\\S+|www\\.\\S+', '', text)\n",
        "    # get rid of non words and extra spaces\n",
        "    text = re.sub('\\\\W', ' ', text)\n",
        "    text = re.sub('\\n', '', text)\n",
        "    text = re.sub(' +', ' ', text)\n",
        "    text = re.sub('^ ', '', text)\n",
        "    text = re.sub(' $', '', text)\n",
        "    return text\n",
        "\n",
        "def clean_text(text):\n",
        "    text = text.lower()\n",
        "    text = text.replace(',',' , ')\n",
        "    text = text.replace('.',' . ')\n",
        "    text = text.replace('/',' / ')\n",
        "    text = text.replace('@',' @ ')\n",
        "    text = text.replace('#',' # ')\n",
        "    text = text.replace('?',' ? ')\n",
        "    text = normalize_text(text)\n",
        "    text = remove_punctuation(text)\n",
        "    return text\n",
        "\n",
        "def clean(example):\n",
        "    example['cltext'] = clean_text(example['text'])\n",
        "    return example"
      ],
      "metadata": {
        "colab": {
          "base_uri": "https://localhost:8080/"
        },
        "id": "ooGe8X3A3WWl",
        "outputId": "475878e0-a4b1-40e8-8be8-e2682f4ae63b"
      },
      "execution_count": null,
      "outputs": [
        {
          "output_type": "stream",
          "name": "stderr",
          "text": [
            "[nltk_data] Downloading package stopwords to /root/nltk_data...\n",
            "[nltk_data]   Package stopwords is already up-to-date!\n",
            "[nltk_data] Downloading package punkt to /root/nltk_data...\n",
            "[nltk_data]   Package punkt is already up-to-date!\n"
          ]
        }
      ]
    },
    {
      "cell_type": "code",
      "source": [
        "import random\n",
        "\n",
        "random.seed(42)\n",
        "train_idx = random.sample(range(len(dataset['train'])), 10000)\n",
        "test_idx = random.sample(range(len(dataset['test'])), 2000)"
      ],
      "metadata": {
        "id": "G52I3Xqd7fFL"
      },
      "execution_count": null,
      "outputs": []
    },
    {
      "cell_type": "code",
      "source": [
        "dataset['train'] = dataset['train'].select(train_idx)\n",
        "dataset['test'] = dataset['test'].select(test_idx)\n",
        "\n",
        "dataset"
      ],
      "metadata": {
        "colab": {
          "base_uri": "https://localhost:8080/"
        },
        "id": "iEguYc7O8QRw",
        "outputId": "0e6f442c-3252-4788-8385-d4f804751a02"
      },
      "execution_count": null,
      "outputs": [
        {
          "output_type": "execute_result",
          "data": {
            "text/plain": [
              "DatasetDict({\n",
              "    train: Dataset({\n",
              "        features: ['text', 'label'],\n",
              "        num_rows: 10000\n",
              "    })\n",
              "    test: Dataset({\n",
              "        features: ['text', 'label'],\n",
              "        num_rows: 2000\n",
              "    })\n",
              "})"
            ]
          },
          "metadata": {},
          "execution_count": 8
        }
      ]
    },
    {
      "cell_type": "code",
      "source": [
        "for split in ['train', 'test']:\n",
        "    dataset[split] = dataset[split].map(clean)"
      ],
      "metadata": {
        "id": "m2gcfowl34qU"
      },
      "execution_count": null,
      "outputs": []
    },
    {
      "cell_type": "code",
      "source": [
        "dataset['train'][0]"
      ],
      "metadata": {
        "colab": {
          "base_uri": "https://localhost:8080/"
        },
        "id": "woma3-OC53Vi",
        "outputId": "c0d7fd2b-3e30-4139-8efe-eb82e4fb9662"
      },
      "execution_count": null,
      "outputs": [
        {
          "output_type": "execute_result",
          "data": {
            "text/plain": [
              "{'text': 'Arguably this is a very good \"sequel\", better than the first live action film 101 Dalmatians. It has good dogs, good actors, good jokes and all right slapstick! <br /><br />Cruella DeVil, who has had some rather major therapy, is now a lover of dogs and very kind to them. Many, including Chloe Simon, owner of one of the dogs that Cruella once tried to kill, do not believe this. Others, like Kevin Shepherd (owner of 2nd Chance Dog Shelter) believe that she has changed. <br /><br />Meanwhile, Dipstick, with his mate, have given birth to three cute dalmatian puppies! Little Dipper, Domino and Oddball...<br /><br />Starring Eric Idle as Waddlesworth (the hilarious macaw), Glenn Close as Cruella herself and Gerard Depardieu as Le Pelt (another baddie, the name should give a clue), this is a good family film with excitement and lots more!! One downfall of this film is that is has a lot of painful slapstick, but not quite as excessive as the last film. This is also funnier than the last film.<br /><br />Enjoy \"102 Dalmatians\"! :-)',\n",
              " 'label': 1,\n",
              " 'cltext': 'arguably this is a very good sequel better than the first live action film 101 dalmatians it has good dogs good actors good jokes and all right slapstick br br cruella devil who has had some rather major therapy is now a lover of dogs and very kind to them many including chloe simon owner of one of the dogs that cruella once tried to kill do not believe this others like kevin shepherd owner of 2nd chance dog shelter believe that she has changed br br meanwhile dipstick with his mate have given birth to three cute dalmatian puppies little dipper domino and oddball br br starring eric idle as waddlesworth the hilarious macaw glenn close as cruella herself and gerard depardieu as le pelt another baddie the name should give a clue this is a good family film with excitement and lots more one downfall of this film is that is has a lot of painful slapstick but not quite as excessive as the last film this is also funnier than the last film br br enjoy 102 dalmatians '}"
            ]
          },
          "metadata": {},
          "execution_count": 10
        }
      ]
    },
    {
      "cell_type": "code",
      "source": [
        "for split in ['train', 'test']:\n",
        "    positive = 0\n",
        "    for example in dataset[split]:\n",
        "        positive += example['label']\n",
        "\n",
        "    print('% of positive examples per split -->', split, positive/len(dataset[split]))"
      ],
      "metadata": {
        "colab": {
          "base_uri": "https://localhost:8080/"
        },
        "id": "JaZdVQpV8sWu",
        "outputId": "ed2e52da-94bb-4cd7-e3ed-f85de8e0e83b"
      },
      "execution_count": null,
      "outputs": [
        {
          "output_type": "stream",
          "name": "stdout",
          "text": [
            "% of positive examples per split --> train 0.5031\n",
            "% of positive examples per split --> test 0.4945\n"
          ]
        }
      ]
    },
    {
      "cell_type": "code",
      "source": [
        "# for each synset, associate the number of times it appears in a posive sentence and the number of times it appears in a negative one, make the ratio"
      ],
      "metadata": {
        "id": "I11Amqix6Irj"
      },
      "execution_count": null,
      "outputs": []
    },
    {
      "cell_type": "code",
      "source": [
        "nltk.download('averaged_perceptron_tagger')\n",
        "\n",
        "def postag(example):\n",
        "    text = example['cltext']\n",
        "    tokens = nltk.word_tokenize(text)\n",
        "    example['tokens'] = tokens\n",
        "    example['pos'] = [p for (w,p) in nltk.pos_tag(tokens)]\n",
        "    return example"
      ],
      "metadata": {
        "colab": {
          "base_uri": "https://localhost:8080/"
        },
        "id": "Mwunrx5393y6",
        "outputId": "c9de3d6a-89b3-4aa6-a160-0a26482589e0"
      },
      "execution_count": null,
      "outputs": [
        {
          "output_type": "stream",
          "name": "stderr",
          "text": [
            "[nltk_data] Downloading package averaged_perceptron_tagger to\n",
            "[nltk_data]     /root/nltk_data...\n",
            "[nltk_data]   Package averaged_perceptron_tagger is already up-to-\n",
            "[nltk_data]       date!\n"
          ]
        }
      ]
    },
    {
      "cell_type": "markdown",
      "source": [
        "Below is the pos tag list of nltk as follows. There is a multiple tag list available in nltk, tag list showing in output as per word.\n",
        "\n",
        "\n",
        "\n",
        "* CC: It is the conjunction of coordinating\n",
        "* CD: It is a digit of cardinal\n",
        "* DT: It is the determiner\n",
        "* EX: Existential\n",
        "* FW: It is a foreign word\n",
        "* IN: Preposition and conjunction\n",
        "* **JJ: Adjective**\n",
        "* **JJR and JJS: Adjective and superlative**\n",
        "* LS: List marker\n",
        "* MD: Modal\n",
        "* **NN: Singular noun**\n",
        "* **NNS, NNP, NNPS: Proper and plural noun**\n",
        "* PDT: Predeterminer\n",
        "* WRB: Adverb of wh\n",
        "* WP: Possessive wh\n",
        "* WP: Pronoun of wh\n",
        "* WDT: Determiner of wp\n",
        "* **VBZ: Verb**\n",
        "* **VBP, VBN, VBG, VBD, VB: Forms of verbs**\n",
        "* UH: Interjection\n",
        "* TO: To go\n",
        "* RP: Particle\n",
        "* RBS, RB, RBR: Adverb\n",
        "* PRP, PRP: Pronoun personal and professional"
      ],
      "metadata": {
        "id": "WXpLGYTPBxSi"
      }
    },
    {
      "cell_type": "code",
      "source": [
        "for split in ['train', 'test']:\n",
        "    dataset[split] = dataset[split].map(postag)"
      ],
      "metadata": {
        "id": "sDIESkvg_CM4"
      },
      "execution_count": null,
      "outputs": []
    },
    {
      "cell_type": "code",
      "source": [
        "synsets = {}\n",
        "\n",
        "pos_map = {\n",
        "    'JJ': ['a', 's'],\n",
        "    'JJR': ['a', 's'],\n",
        "    'JJS': ['a', 's'],\n",
        "    'VBZ': ['v'],\n",
        "    'NN': ['v'],\n",
        "    'NNS' : ['v'],\n",
        "    'NNP': ['v'],\n",
        "    'NNPS': ['v'],\n",
        "    'VBP' :  ['v'],\n",
        "    'VBN' :  ['v'],\n",
        "    'VBG' :  ['v'],\n",
        "    'VBD' :  ['v'],\n",
        "    'VB':  ['v'],\n",
        "}\n",
        "\n",
        "\n",
        "def add_synset(synsets, example):\n",
        "    for i in range(len(example['pos'])):\n",
        "        pt = example['pos'][i]\n",
        "        if pt not in pos_map:\n",
        "            continue\n",
        "        word = example['tokens'][i]\n",
        "        word_synsets = []\n",
        "        for wn_pt in pos_map[pt]:\n",
        "            for word_synset in wn.synsets(word, pos=wn_pt):\n",
        "                if word_synset.name() not in synsets:\n",
        "                    synsets[word_synset.name()] = {0:0, 1:0}\n",
        "                synsets[word_synset.name()][example['label']] +=1\n",
        "    return synsets\n",
        "\n",
        "\n",
        "from tqdm import tqdm\n",
        "def create_synset(dataset_split):\n",
        "    synsets = {}\n",
        "    for example in tqdm(dataset['train']):\n",
        "        synsets = add_synset(synsets, example)\n",
        "    return synsets\n",
        "\n",
        "synsets = create_synset(dataset['train'])"
      ],
      "metadata": {
        "colab": {
          "base_uri": "https://localhost:8080/"
        },
        "id": "GLrUUu8NAAjf",
        "outputId": "a2d11227-8e9e-4780-802d-97c67a8a76bb"
      },
      "execution_count": null,
      "outputs": [
        {
          "output_type": "stream",
          "name": "stderr",
          "text": [
            "100%|██████████| 10000/10000 [00:53<00:00, 186.69it/s]\n"
          ]
        }
      ]
    },
    {
      "cell_type": "code",
      "source": [
        "synset_sentiment = {synname: 1 if synsets[synname][1]>synsets[synname][0] else 0 for synname in synsets}"
      ],
      "metadata": {
        "id": "jsUF8tUqWaNw"
      },
      "execution_count": null,
      "outputs": []
    },
    {
      "cell_type": "code",
      "source": [
        "preds = []\n",
        "for example in tqdm(dataset['train']):\n",
        "    score = 0\n",
        "    example_syns = add_synset({}, example)\n",
        "    example_syns = list(example_syns.keys())\n",
        "    positive_score = 0\n",
        "    negative_score = 0\n",
        "    for example_syn in example_syns:\n",
        "        if synset_sentiment[example_syn] == 1:\n",
        "            positive_score+=1\n",
        "        else:\n",
        "            negative_score+=1\n",
        "\n",
        "    if positive_score > negative_score:\n",
        "        preds.append(1)\n",
        "    else:\n",
        "        preds.append(0)"
      ],
      "metadata": {
        "colab": {
          "base_uri": "https://localhost:8080/"
        },
        "id": "LeG4Y1q9WHaf",
        "outputId": "dee7cd0f-fd59-4a0d-f4ad-ecaa4b030242"
      },
      "execution_count": null,
      "outputs": [
        {
          "output_type": "stream",
          "name": "stderr",
          "text": [
            "100%|██████████| 10000/10000 [00:31<00:00, 317.38it/s]\n"
          ]
        }
      ]
    },
    {
      "cell_type": "code",
      "source": [
        "from sklearn.metrics import accuracy_score, confusion_matrix, ConfusionMatrixDisplay, classification_report\n",
        "\n",
        "cm = confusion_matrix(dataset['train']['label'], preds)\n",
        "disp = ConfusionMatrixDisplay(confusion_matrix=cm)\n",
        "\n",
        "disp.plot()"
      ],
      "metadata": {
        "colab": {
          "base_uri": "https://localhost:8080/",
          "height": 466
        },
        "id": "XCDPdEtLYz-K",
        "outputId": "72b0092a-c65b-4db4-9525-e454a7e28015"
      },
      "execution_count": null,
      "outputs": [
        {
          "output_type": "execute_result",
          "data": {
            "text/plain": [
              "<sklearn.metrics._plot.confusion_matrix.ConfusionMatrixDisplay at 0x7a2faa4dfaf0>"
            ]
          },
          "metadata": {},
          "execution_count": 18
        },
        {
          "output_type": "display_data",
          "data": {
            "text/plain": [
              "<Figure size 640x480 with 2 Axes>"
            ],
            "image/png": "[encoded data removed]"
          },
          "metadata": {}
        }
      ]
    },
    {
      "cell_type": "code",
      "source": [
        "print(classification_report(y_pred=preds, y_true=dataset['train']['label']))"
      ],
      "metadata": {
        "colab": {
          "base_uri": "https://localhost:8080/"
        },
        "id": "2I_3tlPbZu7z",
        "outputId": "2ba66ac9-4a2c-4091-ba96-8c20d0f920fa"
      },
      "execution_count": null,
      "outputs": [
        {
          "output_type": "stream",
          "name": "stdout",
          "text": [
            "              precision    recall  f1-score   support\n",
            "\n",
            "           0       0.69      0.76      0.73      4969\n",
            "           1       0.74      0.66      0.70      5031\n",
            "\n",
            "    accuracy                           0.71     10000\n",
            "   macro avg       0.72      0.71      0.71     10000\n",
            "weighted avg       0.72      0.71      0.71     10000\n",
            "\n"
          ]
        }
      ]
    },
    {
      "cell_type": "code",
      "source": [
        "preds = []\n",
        "for example in tqdm(dataset['test']):\n",
        "\n",
        "    example_syns = add_synset({}, example)\n",
        "    example_syns = list(example_syns.keys())\n",
        "    positive_score = 0\n",
        "    negative_score = 0\n",
        "    for example_syn in example_syns:\n",
        "        if example_syn in synset_sentiment:\n",
        "            if synset_sentiment[example_syn] == 1:\n",
        "                positive_score+=1\n",
        "            else:\n",
        "                negative_score+=1\n",
        "\n",
        "    if positive_score > negative_score:\n",
        "        preds.append(1)\n",
        "    else:\n",
        "        preds.append(0)"
      ],
      "metadata": {
        "colab": {
          "base_uri": "https://localhost:8080/"
        },
        "id": "pK46bL-DaLsa",
        "outputId": "0fd14d6d-1efb-4d58-e950-5c2d81ca5f43"
      },
      "execution_count": null,
      "outputs": [
        {
          "output_type": "stream",
          "name": "stderr",
          "text": [
            "100%|██████████| 2000/2000 [00:09<00:00, 209.24it/s]\n"
          ]
        }
      ]
    },
    {
      "cell_type": "code",
      "source": [
        "cm = confusion_matrix(dataset['test']['label'], preds)\n",
        "disp = ConfusionMatrixDisplay(confusion_matrix=cm)\n",
        "\n",
        "disp.plot()"
      ],
      "metadata": {
        "colab": {
          "base_uri": "https://localhost:8080/",
          "height": 466
        },
        "id": "6lCvcPP3aUUI",
        "outputId": "13f7570f-d059-4f56-d705-159d37b27658"
      },
      "execution_count": null,
      "outputs": [
        {
          "output_type": "execute_result",
          "data": {
            "text/plain": [
              "<sklearn.metrics._plot.confusion_matrix.ConfusionMatrixDisplay at 0x7a2f9b2e6dd0>"
            ]
          },
          "metadata": {},
          "execution_count": 21
        },
        {
          "output_type": "display_data",
          "data": {
            "text/plain": [
              "<Figure size 640x480 with 2 Axes>"
            ],
            "image/png": "[encoded data removed]"
          },
          "metadata": {}
        }
      ]
    },
    {
      "cell_type": "code",
      "source": [
        "print(classification_report(y_pred=preds, y_true=dataset['test']['label']))"
      ],
      "metadata": {
        "colab": {
          "base_uri": "https://localhost:8080/"
        },
        "id": "GdyjI54ZaPyH",
        "outputId": "1d3b49a4-a9c1-4825-c5e2-799515d1dce8"
      },
      "execution_count": null,
      "outputs": [
        {
          "output_type": "stream",
          "name": "stdout",
          "text": [
            "              precision    recall  f1-score   support\n",
            "\n",
            "           0       0.68      0.77      0.72      1011\n",
            "           1       0.73      0.64      0.68       989\n",
            "\n",
            "    accuracy                           0.70      2000\n",
            "   macro avg       0.71      0.70      0.70      2000\n",
            "weighted avg       0.71      0.70      0.70      2000\n",
            "\n"
          ]
        }
      ]
    },
    {
      "cell_type": "code",
      "source": [
        "# NB\n",
        "print(len(synset_sentiment.keys()))"
      ],
      "metadata": {
        "colab": {
          "base_uri": "https://localhost:8080/"
        },
        "id": "o2Wsj1WDauFv",
        "outputId": "a998e002-fbad-44c9-a3e7-6a28131ff9a5"
      },
      "execution_count": null,
      "outputs": [
        {
          "output_type": "stream",
          "name": "stdout",
          "text": [
            "18322\n"
          ]
        }
      ]
    },
    {
      "cell_type": "code",
      "source": [
        "dataset['train']"
      ],
      "metadata": {
        "colab": {
          "base_uri": "https://localhost:8080/"
        },
        "id": "vfcl5Bqla8lS",
        "outputId": "f331e168-7e5c-4a93-b29d-d997b7113dab"
      },
      "execution_count": null,
      "outputs": [
        {
          "output_type": "execute_result",
          "data": {
            "text/plain": [
              "Dataset({\n",
              "    features: ['text', 'label', 'cltext', 'tokens', 'pos'],\n",
              "    num_rows: 10000\n",
              "})"
            ]
          },
          "metadata": {},
          "execution_count": 24
        }
      ]
    },
    {
      "cell_type": "code",
      "source": [
        "tokens = set()\n",
        "for toks in dataset['train']['tokens']:\n",
        "    for tok in toks:\n",
        "        tokens.add(tok)"
      ],
      "metadata": {
        "id": "TFEjWlhaa121"
      },
      "execution_count": null,
      "outputs": []
    },
    {
      "cell_type": "code",
      "source": [
        "len(tokens)"
      ],
      "metadata": {
        "colab": {
          "base_uri": "https://localhost:8080/"
        },
        "id": "V6hLM-E4bG5I",
        "outputId": "66dc4f40-4332-486c-b2ad-80a54ad8ef6b"
      },
      "execution_count": null,
      "outputs": [
        {
          "output_type": "execute_result",
          "data": {
            "text/plain": [
              "51606"
            ]
          },
          "metadata": {},
          "execution_count": 26
        }
      ]
    }
  ]
}