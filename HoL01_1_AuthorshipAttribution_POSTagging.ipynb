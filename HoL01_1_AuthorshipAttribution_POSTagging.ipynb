{
  "cells": [
    {
      "cell_type": "markdown",
      "metadata": {
        "id": "view-in-github",
        "colab_type": "text"
      },
      "source": [
        "<a href=\"https://colab.research.google.com/github/elenasofia98/PracticalNLP-2023-2024/blob/main/HoL01_1_AuthorshipAttribution_POSTagging.ipynb\" target=\"_parent\"><img src=\"https://colab.research.google.com/assets/colab-badge.svg\" alt=\"Open In Colab\"/></a>"
      ]
    },
    {
      "cell_type": "markdown",
      "source": [
        "# Text Classification - Spooky Author Identification"
      ],
      "metadata": {
        "id": "UYlGww4LBOLX"
      }
    },
    {
      "cell_type": "markdown",
      "metadata": {
        "id": "jk4tPys6ezbx"
      },
      "source": [
        "Kaggle Hallowen challenge from 2017. Download from https://www.kaggle.com/competitions/spooky-author-identification/data\n",
        "\n",
        "The goal is to predict the author from a dataset built from excerpts from horror stories by Edgar Allan Poe (EAP), Mary Shelley (MWS), and HP Lovecraft (HPL)."
      ]
    },
    {
      "cell_type": "markdown",
      "metadata": {
        "id": "JpSPzZL9e7-e"
      },
      "source": [
        "## Exploration & preprocessing"
      ]
    },
    {
      "cell_type": "code",
      "execution_count": null,
      "metadata": {
        "id": "p_Qf7qxWeF9o"
      },
      "outputs": [],
      "source": [
        "import numpy as np\n",
        "import pandas as pd\n",
        "import seaborn as sns\n",
        "import matplotlib.pyplot as plt\n",
        "import os, string"
      ]
    },
    {
      "cell_type": "code",
      "execution_count": null,
      "metadata": {
        "colab": {
          "base_uri": "https://localhost:8080/",
          "height": 275
        },
        "id": "gLvRg8XDfW7Z",
        "outputId": "45890df9-5085-4d42-a14d-cd76a965e280"
      },
      "outputs": [
        {
          "output_type": "execute_result",
          "data": {
            "text/plain": [
              "        id  \\\n",
              "0  id26305   \n",
              "1  id17569   \n",
              "2  id11008   \n",
              "3  id27763   \n",
              "4  id12958   \n",
              "\n",
              "                                                                                                                                                                                                                                      text  \\\n",
              "0  This process, however, afforded me no means of ascertaining the dimensions of my dungeon; as I might make its circuit, and return to the point whence I set out, without being aware of the fact; so perfectly uniform seemed the wall.   \n",
              "1                                                                                                                                                                  It never once occurred to me that the fumbling might be a mere mistake.   \n",
              "2                                 In his left hand was a gold snuff box, from which, as he capered down the hill, cutting all manner of fantastic steps, he took snuff incessantly with an air of the greatest possible self satisfaction.   \n",
              "3                           How lovely is spring As we looked from Windsor Terrace on the sixteen fertile counties spread beneath, speckled by happy cottages and wealthier towns, all looked as in former years, heart cheering and fair.   \n",
              "4                                                           Finding nothing else, not even gold, the Superintendent abandoned his attempts; but a perplexed look occasionally steals over his countenance as he sits thinking at his desk.   \n",
              "\n",
              "  author  \n",
              "0    EAP  \n",
              "1    HPL  \n",
              "2    EAP  \n",
              "3    MWS  \n",
              "4    HPL  "
            ],
            "text/html": [
              "\n",
              "  <div id=\"df-51fa4e78-5f02-4802-b51e-226d88e4007d\" class=\"colab-df-container\">\n",
              "    <div>\n",
              "<style scoped>\n",
              "    .dataframe tbody tr th:only-of-type {\n",
              "        vertical-align: middle;\n",
              "    }\n",
              "\n",
              "    .dataframe tbody tr th {\n",
              "        vertical-align: top;\n",
              "    }\n",
              "\n",
              "    .dataframe thead th {\n",
              "        text-align: right;\n",
              "    }\n",
              "</style>\n",
              "<table border=\"1\" class=\"dataframe\">\n",
              "  <thead>\n",
              "    <tr style=\"text-align: right;\">\n",
              "      <th></th>\n",
              "      <th>id</th>\n",
              "      <th>text</th>\n",
              "      <th>author</th>\n",
              "    </tr>\n",
              "  </thead>\n",
              "  <tbody>\n",
              "    <tr>\n",
              "      <th>0</th>\n",
              "      <td>id26305</td>\n",
              "      <td>This process, however, afforded me no means of ascertaining the dimensions of my dungeon; as I might make its circuit, and return to the point whence I set out, without being aware of the fact; so perfectly uniform seemed the wall.</td>\n",
              "      <td>EAP</td>\n",
              "    </tr>\n",
              "    <tr>\n",
              "      <th>1</th>\n",
              "      <td>id17569</td>\n",
              "      <td>It never once occurred to me that the fumbling might be a mere mistake.</td>\n",
              "      <td>HPL</td>\n",
              "    </tr>\n",
              "    <tr>\n",
              "      <th>2</th>\n",
              "      <td>id11008</td>\n",
              "      <td>In his left hand was a gold snuff box, from which, as he capered down the hill, cutting all manner of fantastic steps, he took snuff incessantly with an air of the greatest possible self satisfaction.</td>\n",
              "      <td>EAP</td>\n",
              "    </tr>\n",
              "    <tr>\n",
              "      <th>3</th>\n",
              "      <td>id27763</td>\n",
              "      <td>How lovely is spring As we looked from Windsor Terrace on the sixteen fertile counties spread beneath, speckled by happy cottages and wealthier towns, all looked as in former years, heart cheering and fair.</td>\n",
              "      <td>MWS</td>\n",
              "    </tr>\n",
              "    <tr>\n",
              "      <th>4</th>\n",
              "      <td>id12958</td>\n",
              "      <td>Finding nothing else, not even gold, the Superintendent abandoned his attempts; but a perplexed look occasionally steals over his countenance as he sits thinking at his desk.</td>\n",
              "      <td>HPL</td>\n",
              "    </tr>\n",
              "  </tbody>\n",
              "</table>\n",
              "</div>\n",
              "    <div class=\"colab-df-buttons\">\n",
              "\n",
              "  <div class=\"colab-df-container\">\n",
              "    <button class=\"colab-df-convert\" onclick=\"convertToInteractive('df-51fa4e78-5f02-4802-b51e-226d88e4007d')\"\n",
              "            title=\"Convert this dataframe to an interactive table.\"\n",
              "            style=\"display:none;\">\n",
              "\n",
              "  <svg xmlns=\"http://www.w3.org/2000/svg\" height=\"24px\" viewBox=\"0 -960 960 960\">\n",
              "    <path d=\"M120-120v-720h720v720H120Zm60-500h600v-160H180v160Zm220 220h160v-160H400v160Zm0 220h160v-160H400v160ZM180-400h160v-160H180v160Zm440 0h160v-160H620v160ZM180-180h160v-160H180v160Zm440 0h160v-160H620v160Z\"/>\n",
              "  </svg>\n",
              "    </button>\n",
              "\n",
              "  <style>\n",
              "    .colab-df-container {\n",
              "      display:flex;\n",
              "      gap: 12px;\n",
              "    }\n",
              "\n",
              "    .colab-df-convert {\n",
              "      background-color: #E8F0FE;\n",
              "      border: none;\n",
              "      border-radius: 50%;\n",
              "      cursor: pointer;\n",
              "      display: none;\n",
              "      fill: #1967D2;\n",
              "      height: 32px;\n",
              "      padding: 0 0 0 0;\n",
              "      width: 32px;\n",
              "    }\n",
              "\n",
              "    .colab-df-convert:hover {\n",
              "      background-color: #E2EBFA;\n",
              "      box-shadow: 0px 1px 2px rgba(60, 64, 67, 0.3), 0px 1px 3px 1px rgba(60, 64, 67, 0.15);\n",
              "      fill: #174EA6;\n",
              "    }\n",
              "\n",
              "    .colab-df-buttons div {\n",
              "      margin-bottom: 4px;\n",
              "    }\n",
              "\n",
              "    [theme=dark] .colab-df-convert {\n",
              "      background-color: #3B4455;\n",
              "      fill: #D2E3FC;\n",
              "    }\n",
              "\n",
              "    [theme=dark] .colab-df-convert:hover {\n",
              "      background-color: #434B5C;\n",
              "      box-shadow: 0px 1px 3px 1px rgba(0, 0, 0, 0.15);\n",
              "      filter: drop-shadow(0px 1px 2px rgba(0, 0, 0, 0.3));\n",
              "      fill: #FFFFFF;\n",
              "    }\n",
              "  </style>\n",
              "\n",
              "    <script>\n",
              "      const buttonEl =\n",
              "        document.querySelector('#df-51fa4e78-5f02-4802-b51e-226d88e4007d button.colab-df-convert');\n",
              "      buttonEl.style.display =\n",
              "        google.colab.kernel.accessAllowed ? 'block' : 'none';\n",
              "\n",
              "      async function convertToInteractive(key) {\n",
              "        const element = document.querySelector('#df-51fa4e78-5f02-4802-b51e-226d88e4007d');\n",
              "        const dataTable =\n",
              "          await google.colab.kernel.invokeFunction('convertToInteractive',\n",
              "                                                    [key], {});\n",
              "        if (!dataTable) return;\n",
              "\n",
              "        const docLinkHtml = 'Like what you see? Visit the ' +\n",
              "          '<a target=\"_blank\" href=https://colab.research.google.com/notebooks/data_table.ipynb>data table notebook</a>'\n",
              "          + ' to learn more about interactive tables.';\n",
              "        element.innerHTML = '';\n",
              "        dataTable['output_type'] = 'display_data';\n",
              "        await google.colab.output.renderOutput(dataTable, element);\n",
              "        const docLink = document.createElement('div');\n",
              "        docLink.innerHTML = docLinkHtml;\n",
              "        element.appendChild(docLink);\n",
              "      }\n",
              "    </script>\n",
              "  </div>\n",
              "\n",
              "\n",
              "<div id=\"df-bcec76ef-c672-46f1-8695-57b35139eac0\">\n",
              "  <button class=\"colab-df-quickchart\" onclick=\"quickchart('df-bcec76ef-c672-46f1-8695-57b35139eac0')\"\n",
              "            title=\"Suggest charts\"\n",
              "            style=\"display:none;\">\n",
              "\n",
              "<svg xmlns=\"http://www.w3.org/2000/svg\" height=\"24px\"viewBox=\"0 0 24 24\"\n",
              "     width=\"24px\">\n",
              "    <g>\n",
              "        <path d=\"M19 3H5c-1.1 0-2 .9-2 2v14c0 1.1.9 2 2 2h14c1.1 0 2-.9 2-2V5c0-1.1-.9-2-2-2zM9 17H7v-7h2v7zm4 0h-2V7h2v10zm4 0h-2v-4h2v4z\"/>\n",
              "    </g>\n",
              "</svg>\n",
              "  </button>\n",
              "\n",
              "<style>\n",
              "  .colab-df-quickchart {\n",
              "      --bg-color: #E8F0FE;\n",
              "      --fill-color: #1967D2;\n",
              "      --hover-bg-color: #E2EBFA;\n",
              "      --hover-fill-color: #174EA6;\n",
              "      --disabled-fill-color: #AAA;\n",
              "      --disabled-bg-color: #DDD;\n",
              "  }\n",
              "\n",
              "  [theme=dark] .colab-df-quickchart {\n",
              "      --bg-color: #3B4455;\n",
              "      --fill-color: #D2E3FC;\n",
              "      --hover-bg-color: #434B5C;\n",
              "      --hover-fill-color: #FFFFFF;\n",
              "      --disabled-bg-color: #3B4455;\n",
              "      --disabled-fill-color: #666;\n",
              "  }\n",
              "\n",
              "  .colab-df-quickchart {\n",
              "    background-color: var(--bg-color);\n",
              "    border: none;\n",
              "    border-radius: 50%;\n",
              "    cursor: pointer;\n",
              "    display: none;\n",
              "    fill: var(--fill-color);\n",
              "    height: 32px;\n",
              "    padding: 0;\n",
              "    width: 32px;\n",
              "  }\n",
              "\n",
              "  .colab-df-quickchart:hover {\n",
              "    background-color: var(--hover-bg-color);\n",
              "    box-shadow: 0 1px 2px rgba(60, 64, 67, 0.3), 0 1px 3px 1px rgba(60, 64, 67, 0.15);\n",
              "    fill: var(--button-hover-fill-color);\n",
              "  }\n",
              "\n",
              "  .colab-df-quickchart-complete:disabled,\n",
              "  .colab-df-quickchart-complete:disabled:hover {\n",
              "    background-color: var(--disabled-bg-color);\n",
              "    fill: var(--disabled-fill-color);\n",
              "    box-shadow: none;\n",
              "  }\n",
              "\n",
              "  .colab-df-spinner {\n",
              "    border: 2px solid var(--fill-color);\n",
              "    border-color: transparent;\n",
              "    border-bottom-color: var(--fill-color);\n",
              "    animation:\n",
              "      spin 1s steps(1) infinite;\n",
              "  }\n",
              "\n",
              "  @keyframes spin {\n",
              "    0% {\n",
              "      border-color: transparent;\n",
              "      border-bottom-color: var(--fill-color);\n",
              "      border-left-color: var(--fill-color);\n",
              "    }\n",
              "    20% {\n",
              "      border-color: transparent;\n",
              "      border-left-color: var(--fill-color);\n",
              "      border-top-color: var(--fill-color);\n",
              "    }\n",
              "    30% {\n",
              "      border-color: transparent;\n",
              "      border-left-color: var(--fill-color);\n",
              "      border-top-color: var(--fill-color);\n",
              "      border-right-color: var(--fill-color);\n",
              "    }\n",
              "    40% {\n",
              "      border-color: transparent;\n",
              "      border-right-color: var(--fill-color);\n",
              "      border-top-color: var(--fill-color);\n",
              "    }\n",
              "    60% {\n",
              "      border-color: transparent;\n",
              "      border-right-color: var(--fill-color);\n",
              "    }\n",
              "    80% {\n",
              "      border-color: transparent;\n",
              "      border-right-color: var(--fill-color);\n",
              "      border-bottom-color: var(--fill-color);\n",
              "    }\n",
              "    90% {\n",
              "      border-color: transparent;\n",
              "      border-bottom-color: var(--fill-color);\n",
              "    }\n",
              "  }\n",
              "</style>\n",
              "\n",
              "  <script>\n",
              "    async function quickchart(key) {\n",
              "      const quickchartButtonEl =\n",
              "        document.querySelector('#' + key + ' button');\n",
              "      quickchartButtonEl.disabled = true;  // To prevent multiple clicks.\n",
              "      quickchartButtonEl.classList.add('colab-df-spinner');\n",
              "      try {\n",
              "        const charts = await google.colab.kernel.invokeFunction(\n",
              "            'suggestCharts', [key], {});\n",
              "      } catch (error) {\n",
              "        console.error('Error during call to suggestCharts:', error);\n",
              "      }\n",
              "      quickchartButtonEl.classList.remove('colab-df-spinner');\n",
              "      quickchartButtonEl.classList.add('colab-df-quickchart-complete');\n",
              "    }\n",
              "    (() => {\n",
              "      let quickchartButtonEl =\n",
              "        document.querySelector('#df-bcec76ef-c672-46f1-8695-57b35139eac0 button');\n",
              "      quickchartButtonEl.style.display =\n",
              "        google.colab.kernel.accessAllowed ? 'block' : 'none';\n",
              "    })();\n",
              "  </script>\n",
              "</div>\n",
              "    </div>\n",
              "  </div>\n"
            ]
          },
          "metadata": {},
          "execution_count": 2
        }
      ],
      "source": [
        "df_train = pd.read_csv('SpookyAuthorIdentification_train.csv')\n",
        "# df_test = pd.read_csv('data/SpookyAuthorIdentification/test.csv')\n",
        "\n",
        "pd.set_option('display.max_colwidth', None)\n",
        "df_train.head()"
      ]
    },
    {
      "cell_type": "code",
      "execution_count": null,
      "metadata": {
        "colab": {
          "base_uri": "https://localhost:8080/",
          "height": 293
        },
        "id": "6kG3tvtwgE92",
        "outputId": "e53ecb04-3a3d-4592-80ef-c4f52c394d48"
      },
      "outputs": [
        {
          "output_type": "display_data",
          "data": {
            "text/plain": [
              "        id  \\\n",
              "0  id10914   \n",
              "1  id03295   \n",
              "2  id04103   \n",
              "3  id26189   \n",
              "4  id07955   \n",
              "\n",
              "                                                                                                                                                                                                                                                                                                                                                                                                                                                                                                                                                                                                                                                                                                      text  \\\n",
              "0                                                                                                                                                                                                                                                                                                                                                                                                                                                                                                                                                                                         It will have been, by that time, totally destroyed, at three different periods, by three successive earthquakes.   \n",
              "1                                                                                                                                                                                                                                                                                                                                                                                                                                                                                                                                                                                                                                                           Make me happy, and I shall again be virtuous.\"   \n",
              "2  The margin of the river, and of the many dazzling rivulets that glided through devious ways into its channel, as well as the spaces that extended from the margins away down into the depths of the streams until they reached the bed of pebbles at the bottom, these spots, not less than the whole surface of the valley, from the river to the mountains that girdled it in, were carpeted all by a soft green grass, thick, short, perfectly even, and vanilla perfumed, but so besprinkled throughout with the yellow buttercup, the white daisy, the purple violet, and the ruby red asphodel, that its exceeding beauty spoke to our hearts in loud tones, of the love and of the glory of God.   \n",
              "3                                                                                                                                                                                                                                                                                                                                                                                                                                                                                                                                                                                                                                                                 The heat became all at once intolerable.   \n",
              "4                                                                                                                                                                                                                                                                                                                                                                                                                                                        What, indeed, was my passion for the young girl of the valley in comparison with the fervor, and the delirium, and the spirit lifting ecstasy of adoration with which I poured out my whole soul in tears at the feet of the ethereal Ermengarde?   \n",
              "\n",
              "  author  \n",
              "0    EAP  \n",
              "1    MWS  \n",
              "2    EAP  \n",
              "3    EAP  \n",
              "4    EAP  "
            ],
            "text/html": [
              "\n",
              "  <div id=\"df-9fe7b6bd-a4af-492f-9e2e-794b2e34d7d3\" class=\"colab-df-container\">\n",
              "    <div>\n",
              "<style scoped>\n",
              "    .dataframe tbody tr th:only-of-type {\n",
              "        vertical-align: middle;\n",
              "    }\n",
              "\n",
              "    .dataframe tbody tr th {\n",
              "        vertical-align: top;\n",
              "    }\n",
              "\n",
              "    .dataframe thead th {\n",
              "        text-align: right;\n",
              "    }\n",
              "</style>\n",
              "<table border=\"1\" class=\"dataframe\">\n",
              "  <thead>\n",
              "    <tr style=\"text-align: right;\">\n",
              "      <th></th>\n",
              "      <th>id</th>\n",
              "      <th>text</th>\n",
              "      <th>author</th>\n",
              "    </tr>\n",
              "  </thead>\n",
              "  <tbody>\n",
              "    <tr>\n",
              "      <th>0</th>\n",
              "      <td>id10914</td>\n",
              "      <td>It will have been, by that time, totally destroyed, at three different periods, by three successive earthquakes.</td>\n",
              "      <td>EAP</td>\n",
              "    </tr>\n",
              "    <tr>\n",
              "      <th>1</th>\n",
              "      <td>id03295</td>\n",
              "      <td>Make me happy, and I shall again be virtuous.\"</td>\n",
              "      <td>MWS</td>\n",
              "    </tr>\n",
              "    <tr>\n",
              "      <th>2</th>\n",
              "      <td>id04103</td>\n",
              "      <td>The margin of the river, and of the many dazzling rivulets that glided through devious ways into its channel, as well as the spaces that extended from the margins away down into the depths of the streams until they reached the bed of pebbles at the bottom, these spots, not less than the whole surface of the valley, from the river to the mountains that girdled it in, were carpeted all by a soft green grass, thick, short, perfectly even, and vanilla perfumed, but so besprinkled throughout with the yellow buttercup, the white daisy, the purple violet, and the ruby red asphodel, that its exceeding beauty spoke to our hearts in loud tones, of the love and of the glory of God.</td>\n",
              "      <td>EAP</td>\n",
              "    </tr>\n",
              "    <tr>\n",
              "      <th>3</th>\n",
              "      <td>id26189</td>\n",
              "      <td>The heat became all at once intolerable.</td>\n",
              "      <td>EAP</td>\n",
              "    </tr>\n",
              "    <tr>\n",
              "      <th>4</th>\n",
              "      <td>id07955</td>\n",
              "      <td>What, indeed, was my passion for the young girl of the valley in comparison with the fervor, and the delirium, and the spirit lifting ecstasy of adoration with which I poured out my whole soul in tears at the feet of the ethereal Ermengarde?</td>\n",
              "      <td>EAP</td>\n",
              "    </tr>\n",
              "  </tbody>\n",
              "</table>\n",
              "</div>\n",
              "    <div class=\"colab-df-buttons\">\n",
              "\n",
              "  <div class=\"colab-df-container\">\n",
              "    <button class=\"colab-df-convert\" onclick=\"convertToInteractive('df-9fe7b6bd-a4af-492f-9e2e-794b2e34d7d3')\"\n",
              "            title=\"Convert this dataframe to an interactive table.\"\n",
              "            style=\"display:none;\">\n",
              "\n",
              "  <svg xmlns=\"http://www.w3.org/2000/svg\" height=\"24px\" viewBox=\"0 -960 960 960\">\n",
              "    <path d=\"M120-120v-720h720v720H120Zm60-500h600v-160H180v160Zm220 220h160v-160H400v160Zm0 220h160v-160H400v160ZM180-400h160v-160H180v160Zm440 0h160v-160H620v160ZM180-180h160v-160H180v160Zm440 0h160v-160H620v160Z\"/>\n",
              "  </svg>\n",
              "    </button>\n",
              "\n",
              "  <style>\n",
              "    .colab-df-container {\n",
              "      display:flex;\n",
              "      gap: 12px;\n",
              "    }\n",
              "\n",
              "    .colab-df-convert {\n",
              "      background-color: #E8F0FE;\n",
              "      border: none;\n",
              "      border-radius: 50%;\n",
              "      cursor: pointer;\n",
              "      display: none;\n",
              "      fill: #1967D2;\n",
              "      height: 32px;\n",
              "      padding: 0 0 0 0;\n",
              "      width: 32px;\n",
              "    }\n",
              "\n",
              "    .colab-df-convert:hover {\n",
              "      background-color: #E2EBFA;\n",
              "      box-shadow: 0px 1px 2px rgba(60, 64, 67, 0.3), 0px 1px 3px 1px rgba(60, 64, 67, 0.15);\n",
              "      fill: #174EA6;\n",
              "    }\n",
              "\n",
              "    .colab-df-buttons div {\n",
              "      margin-bottom: 4px;\n",
              "    }\n",
              "\n",
              "    [theme=dark] .colab-df-convert {\n",
              "      background-color: #3B4455;\n",
              "      fill: #D2E3FC;\n",
              "    }\n",
              "\n",
              "    [theme=dark] .colab-df-convert:hover {\n",
              "      background-color: #434B5C;\n",
              "      box-shadow: 0px 1px 3px 1px rgba(0, 0, 0, 0.15);\n",
              "      filter: drop-shadow(0px 1px 2px rgba(0, 0, 0, 0.3));\n",
              "      fill: #FFFFFF;\n",
              "    }\n",
              "  </style>\n",
              "\n",
              "    <script>\n",
              "      const buttonEl =\n",
              "        document.querySelector('#df-9fe7b6bd-a4af-492f-9e2e-794b2e34d7d3 button.colab-df-convert');\n",
              "      buttonEl.style.display =\n",
              "        google.colab.kernel.accessAllowed ? 'block' : 'none';\n",
              "\n",
              "      async function convertToInteractive(key) {\n",
              "        const element = document.querySelector('#df-9fe7b6bd-a4af-492f-9e2e-794b2e34d7d3');\n",
              "        const dataTable =\n",
              "          await google.colab.kernel.invokeFunction('convertToInteractive',\n",
              "                                                    [key], {});\n",
              "        if (!dataTable) return;\n",
              "\n",
              "        const docLinkHtml = 'Like what you see? Visit the ' +\n",
              "          '<a target=\"_blank\" href=https://colab.research.google.com/notebooks/data_table.ipynb>data table notebook</a>'\n",
              "          + ' to learn more about interactive tables.';\n",
              "        element.innerHTML = '';\n",
              "        dataTable['output_type'] = 'display_data';\n",
              "        await google.colab.output.renderOutput(dataTable, element);\n",
              "        const docLink = document.createElement('div');\n",
              "        docLink.innerHTML = docLinkHtml;\n",
              "        element.appendChild(docLink);\n",
              "      }\n",
              "    </script>\n",
              "  </div>\n",
              "\n",
              "\n",
              "<div id=\"df-39722b33-2874-4f28-a414-c3dca9859e5a\">\n",
              "  <button class=\"colab-df-quickchart\" onclick=\"quickchart('df-39722b33-2874-4f28-a414-c3dca9859e5a')\"\n",
              "            title=\"Suggest charts\"\n",
              "            style=\"display:none;\">\n",
              "\n",
              "<svg xmlns=\"http://www.w3.org/2000/svg\" height=\"24px\"viewBox=\"0 0 24 24\"\n",
              "     width=\"24px\">\n",
              "    <g>\n",
              "        <path d=\"M19 3H5c-1.1 0-2 .9-2 2v14c0 1.1.9 2 2 2h14c1.1 0 2-.9 2-2V5c0-1.1-.9-2-2-2zM9 17H7v-7h2v7zm4 0h-2V7h2v10zm4 0h-2v-4h2v4z\"/>\n",
              "    </g>\n",
              "</svg>\n",
              "  </button>\n",
              "\n",
              "<style>\n",
              "  .colab-df-quickchart {\n",
              "      --bg-color: #E8F0FE;\n",
              "      --fill-color: #1967D2;\n",
              "      --hover-bg-color: #E2EBFA;\n",
              "      --hover-fill-color: #174EA6;\n",
              "      --disabled-fill-color: #AAA;\n",
              "      --disabled-bg-color: #DDD;\n",
              "  }\n",
              "\n",
              "  [theme=dark] .colab-df-quickchart {\n",
              "      --bg-color: #3B4455;\n",
              "      --fill-color: #D2E3FC;\n",
              "      --hover-bg-color: #434B5C;\n",
              "      --hover-fill-color: #FFFFFF;\n",
              "      --disabled-bg-color: #3B4455;\n",
              "      --disabled-fill-color: #666;\n",
              "  }\n",
              "\n",
              "  .colab-df-quickchart {\n",
              "    background-color: var(--bg-color);\n",
              "    border: none;\n",
              "    border-radius: 50%;\n",
              "    cursor: pointer;\n",
              "    display: none;\n",
              "    fill: var(--fill-color);\n",
              "    height: 32px;\n",
              "    padding: 0;\n",
              "    width: 32px;\n",
              "  }\n",
              "\n",
              "  .colab-df-quickchart:hover {\n",
              "    background-color: var(--hover-bg-color);\n",
              "    box-shadow: 0 1px 2px rgba(60, 64, 67, 0.3), 0 1px 3px 1px rgba(60, 64, 67, 0.15);\n",
              "    fill: var(--button-hover-fill-color);\n",
              "  }\n",
              "\n",
              "  .colab-df-quickchart-complete:disabled,\n",
              "  .colab-df-quickchart-complete:disabled:hover {\n",
              "    background-color: var(--disabled-bg-color);\n",
              "    fill: var(--disabled-fill-color);\n",
              "    box-shadow: none;\n",
              "  }\n",
              "\n",
              "  .colab-df-spinner {\n",
              "    border: 2px solid var(--fill-color);\n",
              "    border-color: transparent;\n",
              "    border-bottom-color: var(--fill-color);\n",
              "    animation:\n",
              "      spin 1s steps(1) infinite;\n",
              "  }\n",
              "\n",
              "  @keyframes spin {\n",
              "    0% {\n",
              "      border-color: transparent;\n",
              "      border-bottom-color: var(--fill-color);\n",
              "      border-left-color: var(--fill-color);\n",
              "    }\n",
              "    20% {\n",
              "      border-color: transparent;\n",
              "      border-left-color: var(--fill-color);\n",
              "      border-top-color: var(--fill-color);\n",
              "    }\n",
              "    30% {\n",
              "      border-color: transparent;\n",
              "      border-left-color: var(--fill-color);\n",
              "      border-top-color: var(--fill-color);\n",
              "      border-right-color: var(--fill-color);\n",
              "    }\n",
              "    40% {\n",
              "      border-color: transparent;\n",
              "      border-right-color: var(--fill-color);\n",
              "      border-top-color: var(--fill-color);\n",
              "    }\n",
              "    60% {\n",
              "      border-color: transparent;\n",
              "      border-right-color: var(--fill-color);\n",
              "    }\n",
              "    80% {\n",
              "      border-color: transparent;\n",
              "      border-right-color: var(--fill-color);\n",
              "      border-bottom-color: var(--fill-color);\n",
              "    }\n",
              "    90% {\n",
              "      border-color: transparent;\n",
              "      border-bottom-color: var(--fill-color);\n",
              "    }\n",
              "  }\n",
              "</style>\n",
              "\n",
              "  <script>\n",
              "    async function quickchart(key) {\n",
              "      const quickchartButtonEl =\n",
              "        document.querySelector('#' + key + ' button');\n",
              "      quickchartButtonEl.disabled = true;  // To prevent multiple clicks.\n",
              "      quickchartButtonEl.classList.add('colab-df-spinner');\n",
              "      try {\n",
              "        const charts = await google.colab.kernel.invokeFunction(\n",
              "            'suggestCharts', [key], {});\n",
              "      } catch (error) {\n",
              "        console.error('Error during call to suggestCharts:', error);\n",
              "      }\n",
              "      quickchartButtonEl.classList.remove('colab-df-spinner');\n",
              "      quickchartButtonEl.classList.add('colab-df-quickchart-complete');\n",
              "    }\n",
              "    (() => {\n",
              "      let quickchartButtonEl =\n",
              "        document.querySelector('#df-39722b33-2874-4f28-a414-c3dca9859e5a button');\n",
              "      quickchartButtonEl.style.display =\n",
              "        google.colab.kernel.accessAllowed ? 'block' : 'none';\n",
              "    })();\n",
              "  </script>\n",
              "</div>\n",
              "    </div>\n",
              "  </div>\n"
            ]
          },
          "metadata": {}
        }
      ],
      "source": [
        "import random\n",
        "import math\n",
        "\n",
        "random.seed(42)\n",
        "index = df_train.index.tolist()\n",
        "random.shuffle(index)\n",
        "\n",
        "df_train = df_train.iloc[index].reset_index(drop=True)\n",
        "index = df_train.index.tolist()\n",
        "display(df_train.head())"
      ]
    },
    {
      "cell_type": "code",
      "source": [
        "i = math.ceil((len(index)/100)*80)\n",
        "train_index = index[0:i]\n",
        "test_index = index[i:]\n",
        "\n",
        "df_test = df_train.iloc[test_index]\n",
        "df_train = df_train.iloc[train_index]\n",
        "\n",
        "len(df_train), len(df_test)"
      ],
      "metadata": {
        "colab": {
          "base_uri": "https://localhost:8080/"
        },
        "id": "EI7TYod5gzh1",
        "outputId": "8d2f9b94-130e-4262-f872-55c7495329ee"
      },
      "execution_count": null,
      "outputs": [
        {
          "output_type": "execute_result",
          "data": {
            "text/plain": [
              "(15664, 3915)"
            ]
          },
          "metadata": {},
          "execution_count": 4
        }
      ]
    },
    {
      "cell_type": "code",
      "execution_count": null,
      "metadata": {
        "id": "OtSZFlsXgR2s"
      },
      "outputs": [],
      "source": [
        "def find_missing(df):\n",
        "    size = df.shape\n",
        "    sum_duplicates = df.duplicated().sum()\n",
        "    sum_null = df.isnull().sum().sum()\n",
        "    is_NaN = df.isnull()\n",
        "    row_has_NaN = is_NaN.any(axis=1)\n",
        "    rows_with_NaN = df[row_has_NaN]\n",
        "    count_NaN_rows = rows_with_NaN.shape\n",
        "    return \"Number of Samples: %d,\\nNumber of Features: %d,\\nDuplicated Entries: %d,\\nNull Entries: %d,\\nNumber of Rows with Null Entries: %d %.1f%%\" %(size[0],size[1], sum_duplicates, sum_null,count_NaN_rows[0],(count_NaN_rows[0] / df.shape[0])*100)\n",
        "\n",
        "def countplot(df, x, x_axis_title, y_axys_title, plot_title):\n",
        "    plt.figure(figsize=(20,8))\n",
        "    ax = sns.countplot(data=df, x=x, order=df[x].value_counts().index, palette=\"Blues_d\")\n",
        "\n",
        "    for p in ax.patches:\n",
        "        ax.annotate(\"%d\" % p.get_height(), (p.get_x() + p.get_width() / 2., abs(p.get_height())),\n",
        "        ha='center', va='bottom', color='black', xytext=(0, 3), rotation = 'horizontal',textcoords='offset points')\n",
        "\n",
        "    plt.xticks(rotation=0)\n",
        "    ax.set_xlabel(x_axis_title, weight='bold')\n",
        "\n",
        "    ax.set(yticklabels=[])\n",
        "    ax.axes.get_yaxis().set_visible(False)\n",
        "\n",
        "    sns.despine(top=True, right=True, left=True, bottom=False)\n",
        "    plt.title(plot_title, fontsize = 16,weight = 'bold')"
      ]
    },
    {
      "cell_type": "code",
      "execution_count": null,
      "metadata": {
        "colab": {
          "base_uri": "https://localhost:8080/",
          "height": 631
        },
        "id": "0LhoG7SKgVG_",
        "outputId": "81cf305b-b484-4f65-f5ce-bc54e9e5fc30"
      },
      "outputs": [
        {
          "output_type": "stream",
          "name": "stdout",
          "text": [
            "Number of Samples: 15664,\n",
            "Number of Features: 3,\n",
            "Duplicated Entries: 0,\n",
            "Null Entries: 0,\n",
            "Number of Rows with Null Entries: 0 0.0%\n"
          ]
        },
        {
          "output_type": "display_data",
          "data": {
            "text/plain": [
              "<Figure size 2000x800 with 1 Axes>"
            ],
            "image/png": "[encoded data removed]"
          },
          "metadata": {}
        }
      ],
      "source": [
        "print(find_missing(df_train))\n",
        "countplot(df_train, x='author', x_axis_title='author', y_axys_title='Count', plot_title='Samples per Author - Training Set')"
      ]
    },
    {
      "cell_type": "code",
      "execution_count": null,
      "metadata": {
        "colab": {
          "base_uri": "https://localhost:8080/",
          "height": 631
        },
        "id": "WeC65LAX1apL",
        "outputId": "bff82c7b-5e02-4a68-9d79-a5e6d1b5a46a"
      },
      "outputs": [
        {
          "output_type": "stream",
          "name": "stdout",
          "text": [
            "Number of Samples: 3915,\n",
            "Number of Features: 3,\n",
            "Duplicated Entries: 0,\n",
            "Null Entries: 0,\n",
            "Number of Rows with Null Entries: 0 0.0%\n"
          ]
        },
        {
          "output_type": "display_data",
          "data": {
            "text/plain": [
              "<Figure size 2000x800 with 1 Axes>"
            ],
            "image/png": "[encoded data removed]"
          },
          "metadata": {}
        }
      ],
      "source": [
        "print(find_missing(df_test))\n",
        "countplot(df_test, x='author', x_axis_title='author', y_axys_title='Count', plot_title='Samples per Author - Test Set')"
      ]
    },
    {
      "cell_type": "code",
      "execution_count": null,
      "metadata": {
        "colab": {
          "base_uri": "https://localhost:8080/"
        },
        "id": "ffkSuj07ggsD",
        "outputId": "a9fdff4c-691c-450b-969c-9c02743af8a0"
      },
      "outputs": [
        {
          "output_type": "stream",
          "name": "stderr",
          "text": [
            "[nltk_data] Downloading package punkt to /root/nltk_data...\n",
            "[nltk_data]   Package punkt is already up-to-date!\n"
          ]
        },
        {
          "output_type": "execute_result",
          "data": {
            "text/plain": [
              "True"
            ]
          },
          "metadata": {},
          "execution_count": 8
        }
      ],
      "source": [
        "# https://www.nltk.org/api/nltk.tokenize.html\n",
        "from nltk.tokenize import word_tokenize\n",
        "import re\n",
        "\n",
        "import nltk\n",
        "nltk.download('punkt')"
      ]
    },
    {
      "cell_type": "code",
      "execution_count": null,
      "metadata": {
        "id": "w_RmJw4igkEa"
      },
      "outputs": [],
      "source": [
        "df_train['clean_text'] = df_train['text'].apply(lambda x: x.lower())\n",
        "df_train['tokens'] = df_train['clean_text'].apply(word_tokenize)"
      ]
    },
    {
      "cell_type": "code",
      "execution_count": null,
      "metadata": {
        "id": "IHvlY1gkgpj5"
      },
      "outputs": [],
      "source": [
        "df_test['clean_text'] = df_test['text'].apply(lambda x: x.lower())\n",
        "df_test['tokens'] = df_test['clean_text'].apply(word_tokenize)"
      ]
    },
    {
      "cell_type": "code",
      "execution_count": null,
      "metadata": {
        "colab": {
          "base_uri": "https://localhost:8080/",
          "height": 576
        },
        "id": "KBWnei9OgxfM",
        "outputId": "cea1af4a-26ad-409b-a72d-b34c3d7d10ce"
      },
      "outputs": [
        {
          "output_type": "stream",
          "name": "stdout",
          "text": [
            "original train 15664\n",
            "HPL\n"
          ]
        },
        {
          "output_type": "display_data",
          "data": {
            "text/plain": [
              "      token_count\n",
              "mean    30.865702\n",
              "std     15.240012\n",
              "min      5.000000\n",
              "max    169.000000"
            ],
            "text/html": [
              "\n",
              "  <div id=\"df-302b666f-44d5-428e-87a1-4f3725290b94\" class=\"colab-df-container\">\n",
              "    <div>\n",
              "<style scoped>\n",
              "    .dataframe tbody tr th:only-of-type {\n",
              "        vertical-align: middle;\n",
              "    }\n",
              "\n",
              "    .dataframe tbody tr th {\n",
              "        vertical-align: top;\n",
              "    }\n",
              "\n",
              "    .dataframe thead th {\n",
              "        text-align: right;\n",
              "    }\n",
              "</style>\n",
              "<table border=\"1\" class=\"dataframe\">\n",
              "  <thead>\n",
              "    <tr style=\"text-align: right;\">\n",
              "      <th></th>\n",
              "      <th>token_count</th>\n",
              "    </tr>\n",
              "  </thead>\n",
              "  <tbody>\n",
              "    <tr>\n",
              "      <th>mean</th>\n",
              "      <td>30.865702</td>\n",
              "    </tr>\n",
              "    <tr>\n",
              "      <th>std</th>\n",
              "      <td>15.240012</td>\n",
              "    </tr>\n",
              "    <tr>\n",
              "      <th>min</th>\n",
              "      <td>5.000000</td>\n",
              "    </tr>\n",
              "    <tr>\n",
              "      <th>max</th>\n",
              "      <td>169.000000</td>\n",
              "    </tr>\n",
              "  </tbody>\n",
              "</table>\n",
              "</div>\n",
              "    <div class=\"colab-df-buttons\">\n",
              "\n",
              "  <div class=\"colab-df-container\">\n",
              "    <button class=\"colab-df-convert\" onclick=\"convertToInteractive('df-302b666f-44d5-428e-87a1-4f3725290b94')\"\n",
              "            title=\"Convert this dataframe to an interactive table.\"\n",
              "            style=\"display:none;\">\n",
              "\n",
              "  <svg xmlns=\"http://www.w3.org/2000/svg\" height=\"24px\" viewBox=\"0 -960 960 960\">\n",
              "    <path d=\"M120-120v-720h720v720H120Zm60-500h600v-160H180v160Zm220 220h160v-160H400v160Zm0 220h160v-160H400v160ZM180-400h160v-160H180v160Zm440 0h160v-160H620v160ZM180-180h160v-160H180v160Zm440 0h160v-160H620v160Z\"/>\n",
              "  </svg>\n",
              "    </button>\n",
              "\n",
              "  <style>\n",
              "    .colab-df-container {\n",
              "      display:flex;\n",
              "      gap: 12px;\n",
              "    }\n",
              "\n",
              "    .colab-df-convert {\n",
              "      background-color: #E8F0FE;\n",
              "      border: none;\n",
              "      border-radius: 50%;\n",
              "      cursor: pointer;\n",
              "      display: none;\n",
              "      fill: #1967D2;\n",
              "      height: 32px;\n",
              "      padding: 0 0 0 0;\n",
              "      width: 32px;\n",
              "    }\n",
              "\n",
              "    .colab-df-convert:hover {\n",
              "      background-color: #E2EBFA;\n",
              "      box-shadow: 0px 1px 2px rgba(60, 64, 67, 0.3), 0px 1px 3px 1px rgba(60, 64, 67, 0.15);\n",
              "      fill: #174EA6;\n",
              "    }\n",
              "\n",
              "    .colab-df-buttons div {\n",
              "      margin-bottom: 4px;\n",
              "    }\n",
              "\n",
              "    [theme=dark] .colab-df-convert {\n",
              "      background-color: #3B4455;\n",
              "      fill: #D2E3FC;\n",
              "    }\n",
              "\n",
              "    [theme=dark] .colab-df-convert:hover {\n",
              "      background-color: #434B5C;\n",
              "      box-shadow: 0px 1px 3px 1px rgba(0, 0, 0, 0.15);\n",
              "      filter: drop-shadow(0px 1px 2px rgba(0, 0, 0, 0.3));\n",
              "      fill: #FFFFFF;\n",
              "    }\n",
              "  </style>\n",
              "\n",
              "    <script>\n",
              "      const buttonEl =\n",
              "        document.querySelector('#df-302b666f-44d5-428e-87a1-4f3725290b94 button.colab-df-convert');\n",
              "      buttonEl.style.display =\n",
              "        google.colab.kernel.accessAllowed ? 'block' : 'none';\n",
              "\n",
              "      async function convertToInteractive(key) {\n",
              "        const element = document.querySelector('#df-302b666f-44d5-428e-87a1-4f3725290b94');\n",
              "        const dataTable =\n",
              "          await google.colab.kernel.invokeFunction('convertToInteractive',\n",
              "                                                    [key], {});\n",
              "        if (!dataTable) return;\n",
              "\n",
              "        const docLinkHtml = 'Like what you see? Visit the ' +\n",
              "          '<a target=\"_blank\" href=https://colab.research.google.com/notebooks/data_table.ipynb>data table notebook</a>'\n",
              "          + ' to learn more about interactive tables.';\n",
              "        element.innerHTML = '';\n",
              "        dataTable['output_type'] = 'display_data';\n",
              "        await google.colab.output.renderOutput(dataTable, element);\n",
              "        const docLink = document.createElement('div');\n",
              "        docLink.innerHTML = docLinkHtml;\n",
              "        element.appendChild(docLink);\n",
              "      }\n",
              "    </script>\n",
              "  </div>\n",
              "\n",
              "\n",
              "<div id=\"df-7618e7d5-95f8-45b1-b02b-0667c4bb8024\">\n",
              "  <button class=\"colab-df-quickchart\" onclick=\"quickchart('df-7618e7d5-95f8-45b1-b02b-0667c4bb8024')\"\n",
              "            title=\"Suggest charts\"\n",
              "            style=\"display:none;\">\n",
              "\n",
              "<svg xmlns=\"http://www.w3.org/2000/svg\" height=\"24px\"viewBox=\"0 0 24 24\"\n",
              "     width=\"24px\">\n",
              "    <g>\n",
              "        <path d=\"M19 3H5c-1.1 0-2 .9-2 2v14c0 1.1.9 2 2 2h14c1.1 0 2-.9 2-2V5c0-1.1-.9-2-2-2zM9 17H7v-7h2v7zm4 0h-2V7h2v10zm4 0h-2v-4h2v4z\"/>\n",
              "    </g>\n",
              "</svg>\n",
              "  </button>\n",
              "\n",
              "<style>\n",
              "  .colab-df-quickchart {\n",
              "      --bg-color: #E8F0FE;\n",
              "      --fill-color: #1967D2;\n",
              "      --hover-bg-color: #E2EBFA;\n",
              "      --hover-fill-color: #174EA6;\n",
              "      --disabled-fill-color: #AAA;\n",
              "      --disabled-bg-color: #DDD;\n",
              "  }\n",
              "\n",
              "  [theme=dark] .colab-df-quickchart {\n",
              "      --bg-color: #3B4455;\n",
              "      --fill-color: #D2E3FC;\n",
              "      --hover-bg-color: #434B5C;\n",
              "      --hover-fill-color: #FFFFFF;\n",
              "      --disabled-bg-color: #3B4455;\n",
              "      --disabled-fill-color: #666;\n",
              "  }\n",
              "\n",
              "  .colab-df-quickchart {\n",
              "    background-color: var(--bg-color);\n",
              "    border: none;\n",
              "    border-radius: 50%;\n",
              "    cursor: pointer;\n",
              "    display: none;\n",
              "    fill: var(--fill-color);\n",
              "    height: 32px;\n",
              "    padding: 0;\n",
              "    width: 32px;\n",
              "  }\n",
              "\n",
              "  .colab-df-quickchart:hover {\n",
              "    background-color: var(--hover-bg-color);\n",
              "    box-shadow: 0 1px 2px rgba(60, 64, 67, 0.3), 0 1px 3px 1px rgba(60, 64, 67, 0.15);\n",
              "    fill: var(--button-hover-fill-color);\n",
              "  }\n",
              "\n",
              "  .colab-df-quickchart-complete:disabled,\n",
              "  .colab-df-quickchart-complete:disabled:hover {\n",
              "    background-color: var(--disabled-bg-color);\n",
              "    fill: var(--disabled-fill-color);\n",
              "    box-shadow: none;\n",
              "  }\n",
              "\n",
              "  .colab-df-spinner {\n",
              "    border: 2px solid var(--fill-color);\n",
              "    border-color: transparent;\n",
              "    border-bottom-color: var(--fill-color);\n",
              "    animation:\n",
              "      spin 1s steps(1) infinite;\n",
              "  }\n",
              "\n",
              "  @keyframes spin {\n",
              "    0% {\n",
              "      border-color: transparent;\n",
              "      border-bottom-color: var(--fill-color);\n",
              "      border-left-color: var(--fill-color);\n",
              "    }\n",
              "    20% {\n",
              "      border-color: transparent;\n",
              "      border-left-color: var(--fill-color);\n",
              "      border-top-color: var(--fill-color);\n",
              "    }\n",
              "    30% {\n",
              "      border-color: transparent;\n",
              "      border-left-color: var(--fill-color);\n",
              "      border-top-color: var(--fill-color);\n",
              "      border-right-color: var(--fill-color);\n",
              "    }\n",
              "    40% {\n",
              "      border-color: transparent;\n",
              "      border-right-color: var(--fill-color);\n",
              "      border-top-color: var(--fill-color);\n",
              "    }\n",
              "    60% {\n",
              "      border-color: transparent;\n",
              "      border-right-color: var(--fill-color);\n",
              "    }\n",
              "    80% {\n",
              "      border-color: transparent;\n",
              "      border-right-color: var(--fill-color);\n",
              "      border-bottom-color: var(--fill-color);\n",
              "    }\n",
              "    90% {\n",
              "      border-color: transparent;\n",
              "      border-bottom-color: var(--fill-color);\n",
              "    }\n",
              "  }\n",
              "</style>\n",
              "\n",
              "  <script>\n",
              "    async function quickchart(key) {\n",
              "      const quickchartButtonEl =\n",
              "        document.querySelector('#' + key + ' button');\n",
              "      quickchartButtonEl.disabled = true;  // To prevent multiple clicks.\n",
              "      quickchartButtonEl.classList.add('colab-df-spinner');\n",
              "      try {\n",
              "        const charts = await google.colab.kernel.invokeFunction(\n",
              "            'suggestCharts', [key], {});\n",
              "      } catch (error) {\n",
              "        console.error('Error during call to suggestCharts:', error);\n",
              "      }\n",
              "      quickchartButtonEl.classList.remove('colab-df-spinner');\n",
              "      quickchartButtonEl.classList.add('colab-df-quickchart-complete');\n",
              "    }\n",
              "    (() => {\n",
              "      let quickchartButtonEl =\n",
              "        document.querySelector('#df-7618e7d5-95f8-45b1-b02b-0667c4bb8024 button');\n",
              "      quickchartButtonEl.style.display =\n",
              "        google.colab.kernel.accessAllowed ? 'block' : 'none';\n",
              "    })();\n",
              "  </script>\n",
              "</div>\n",
              "    </div>\n",
              "  </div>\n"
            ]
          },
          "metadata": {}
        },
        {
          "output_type": "stream",
          "name": "stdout",
          "text": [
            "MWS\n"
          ]
        },
        {
          "output_type": "display_data",
          "data": {
            "text/plain": [
              "      token_count\n",
              "mean    31.189784\n",
              "std     25.416344\n",
              "min      4.000000\n",
              "max    876.000000"
            ],
            "text/html": [
              "\n",
              "  <div id=\"df-774db2c7-b76e-485d-8711-49febc2f96d3\" class=\"colab-df-container\">\n",
              "    <div>\n",
              "<style scoped>\n",
              "    .dataframe tbody tr th:only-of-type {\n",
              "        vertical-align: middle;\n",
              "    }\n",
              "\n",
              "    .dataframe tbody tr th {\n",
              "        vertical-align: top;\n",
              "    }\n",
              "\n",
              "    .dataframe thead th {\n",
              "        text-align: right;\n",
              "    }\n",
              "</style>\n",
              "<table border=\"1\" class=\"dataframe\">\n",
              "  <thead>\n",
              "    <tr style=\"text-align: right;\">\n",
              "      <th></th>\n",
              "      <th>token_count</th>\n",
              "    </tr>\n",
              "  </thead>\n",
              "  <tbody>\n",
              "    <tr>\n",
              "      <th>mean</th>\n",
              "      <td>31.189784</td>\n",
              "    </tr>\n",
              "    <tr>\n",
              "      <th>std</th>\n",
              "      <td>25.416344</td>\n",
              "    </tr>\n",
              "    <tr>\n",
              "      <th>min</th>\n",
              "      <td>4.000000</td>\n",
              "    </tr>\n",
              "    <tr>\n",
              "      <th>max</th>\n",
              "      <td>876.000000</td>\n",
              "    </tr>\n",
              "  </tbody>\n",
              "</table>\n",
              "</div>\n",
              "    <div class=\"colab-df-buttons\">\n",
              "\n",
              "  <div class=\"colab-df-container\">\n",
              "    <button class=\"colab-df-convert\" onclick=\"convertToInteractive('df-774db2c7-b76e-485d-8711-49febc2f96d3')\"\n",
              "            title=\"Convert this dataframe to an interactive table.\"\n",
              "            style=\"display:none;\">\n",
              "\n",
              "  <svg xmlns=\"http://www.w3.org/2000/svg\" height=\"24px\" viewBox=\"0 -960 960 960\">\n",
              "    <path d=\"M120-120v-720h720v720H120Zm60-500h600v-160H180v160Zm220 220h160v-160H400v160Zm0 220h160v-160H400v160ZM180-400h160v-160H180v160Zm440 0h160v-160H620v160ZM180-180h160v-160H180v160Zm440 0h160v-160H620v160Z\"/>\n",
              "  </svg>\n",
              "    </button>\n",
              "\n",
              "  <style>\n",
              "    .colab-df-container {\n",
              "      display:flex;\n",
              "      gap: 12px;\n",
              "    }\n",
              "\n",
              "    .colab-df-convert {\n",
              "      background-color: #E8F0FE;\n",
              "      border: none;\n",
              "      border-radius: 50%;\n",
              "      cursor: pointer;\n",
              "      display: none;\n",
              "      fill: #1967D2;\n",
              "      height: 32px;\n",
              "      padding: 0 0 0 0;\n",
              "      width: 32px;\n",
              "    }\n",
              "\n",
              "    .colab-df-convert:hover {\n",
              "      background-color: #E2EBFA;\n",
              "      box-shadow: 0px 1px 2px rgba(60, 64, 67, 0.3), 0px 1px 3px 1px rgba(60, 64, 67, 0.15);\n",
              "      fill: #174EA6;\n",
              "    }\n",
              "\n",
              "    .colab-df-buttons div {\n",
              "      margin-bottom: 4px;\n",
              "    }\n",
              "\n",
              "    [theme=dark] .colab-df-convert {\n",
              "      background-color: #3B4455;\n",
              "      fill: #D2E3FC;\n",
              "    }\n",
              "\n",
              "    [theme=dark] .colab-df-convert:hover {\n",
              "      background-color: #434B5C;\n",
              "      box-shadow: 0px 1px 3px 1px rgba(0, 0, 0, 0.15);\n",
              "      filter: drop-shadow(0px 1px 2px rgba(0, 0, 0, 0.3));\n",
              "      fill: #FFFFFF;\n",
              "    }\n",
              "  </style>\n",
              "\n",
              "    <script>\n",
              "      const buttonEl =\n",
              "        document.querySelector('#df-774db2c7-b76e-485d-8711-49febc2f96d3 button.colab-df-convert');\n",
              "      buttonEl.style.display =\n",
              "        google.colab.kernel.accessAllowed ? 'block' : 'none';\n",
              "\n",
              "      async function convertToInteractive(key) {\n",
              "        const element = document.querySelector('#df-774db2c7-b76e-485d-8711-49febc2f96d3');\n",
              "        const dataTable =\n",
              "          await google.colab.kernel.invokeFunction('convertToInteractive',\n",
              "                                                    [key], {});\n",
              "        if (!dataTable) return;\n",
              "\n",
              "        const docLinkHtml = 'Like what you see? Visit the ' +\n",
              "          '<a target=\"_blank\" href=https://colab.research.google.com/notebooks/data_table.ipynb>data table notebook</a>'\n",
              "          + ' to learn more about interactive tables.';\n",
              "        element.innerHTML = '';\n",
              "        dataTable['output_type'] = 'display_data';\n",
              "        await google.colab.output.renderOutput(dataTable, element);\n",
              "        const docLink = document.createElement('div');\n",
              "        docLink.innerHTML = docLinkHtml;\n",
              "        element.appendChild(docLink);\n",
              "      }\n",
              "    </script>\n",
              "  </div>\n",
              "\n",
              "\n",
              "<div id=\"df-f8579f5a-b065-4dda-9646-b81667e53c47\">\n",
              "  <button class=\"colab-df-quickchart\" onclick=\"quickchart('df-f8579f5a-b065-4dda-9646-b81667e53c47')\"\n",
              "            title=\"Suggest charts\"\n",
              "            style=\"display:none;\">\n",
              "\n",
              "<svg xmlns=\"http://www.w3.org/2000/svg\" height=\"24px\"viewBox=\"0 0 24 24\"\n",
              "     width=\"24px\">\n",
              "    <g>\n",
              "        <path d=\"M19 3H5c-1.1 0-2 .9-2 2v14c0 1.1.9 2 2 2h14c1.1 0 2-.9 2-2V5c0-1.1-.9-2-2-2zM9 17H7v-7h2v7zm4 0h-2V7h2v10zm4 0h-2v-4h2v4z\"/>\n",
              "    </g>\n",
              "</svg>\n",
              "  </button>\n",
              "\n",
              "<style>\n",
              "  .colab-df-quickchart {\n",
              "      --bg-color: #E8F0FE;\n",
              "      --fill-color: #1967D2;\n",
              "      --hover-bg-color: #E2EBFA;\n",
              "      --hover-fill-color: #174EA6;\n",
              "      --disabled-fill-color: #AAA;\n",
              "      --disabled-bg-color: #DDD;\n",
              "  }\n",
              "\n",
              "  [theme=dark] .colab-df-quickchart {\n",
              "      --bg-color: #3B4455;\n",
              "      --fill-color: #D2E3FC;\n",
              "      --hover-bg-color: #434B5C;\n",
              "      --hover-fill-color: #FFFFFF;\n",
              "      --disabled-bg-color: #3B4455;\n",
              "      --disabled-fill-color: #666;\n",
              "  }\n",
              "\n",
              "  .colab-df-quickchart {\n",
              "    background-color: var(--bg-color);\n",
              "    border: none;\n",
              "    border-radius: 50%;\n",
              "    cursor: pointer;\n",
              "    display: none;\n",
              "    fill: var(--fill-color);\n",
              "    height: 32px;\n",
              "    padding: 0;\n",
              "    width: 32px;\n",
              "  }\n",
              "\n",
              "  .colab-df-quickchart:hover {\n",
              "    background-color: var(--hover-bg-color);\n",
              "    box-shadow: 0 1px 2px rgba(60, 64, 67, 0.3), 0 1px 3px 1px rgba(60, 64, 67, 0.15);\n",
              "    fill: var(--button-hover-fill-color);\n",
              "  }\n",
              "\n",
              "  .colab-df-quickchart-complete:disabled,\n",
              "  .colab-df-quickchart-complete:disabled:hover {\n",
              "    background-color: var(--disabled-bg-color);\n",
              "    fill: var(--disabled-fill-color);\n",
              "    box-shadow: none;\n",
              "  }\n",
              "\n",
              "  .colab-df-spinner {\n",
              "    border: 2px solid var(--fill-color);\n",
              "    border-color: transparent;\n",
              "    border-bottom-color: var(--fill-color);\n",
              "    animation:\n",
              "      spin 1s steps(1) infinite;\n",
              "  }\n",
              "\n",
              "  @keyframes spin {\n",
              "    0% {\n",
              "      border-color: transparent;\n",
              "      border-bottom-color: var(--fill-color);\n",
              "      border-left-color: var(--fill-color);\n",
              "    }\n",
              "    20% {\n",
              "      border-color: transparent;\n",
              "      border-left-color: var(--fill-color);\n",
              "      border-top-color: var(--fill-color);\n",
              "    }\n",
              "    30% {\n",
              "      border-color: transparent;\n",
              "      border-left-color: var(--fill-color);\n",
              "      border-top-color: var(--fill-color);\n",
              "      border-right-color: var(--fill-color);\n",
              "    }\n",
              "    40% {\n",
              "      border-color: transparent;\n",
              "      border-right-color: var(--fill-color);\n",
              "      border-top-color: var(--fill-color);\n",
              "    }\n",
              "    60% {\n",
              "      border-color: transparent;\n",
              "      border-right-color: var(--fill-color);\n",
              "    }\n",
              "    80% {\n",
              "      border-color: transparent;\n",
              "      border-right-color: var(--fill-color);\n",
              "      border-bottom-color: var(--fill-color);\n",
              "    }\n",
              "    90% {\n",
              "      border-color: transparent;\n",
              "      border-bottom-color: var(--fill-color);\n",
              "    }\n",
              "  }\n",
              "</style>\n",
              "\n",
              "  <script>\n",
              "    async function quickchart(key) {\n",
              "      const quickchartButtonEl =\n",
              "        document.querySelector('#' + key + ' button');\n",
              "      quickchartButtonEl.disabled = true;  // To prevent multiple clicks.\n",
              "      quickchartButtonEl.classList.add('colab-df-spinner');\n",
              "      try {\n",
              "        const charts = await google.colab.kernel.invokeFunction(\n",
              "            'suggestCharts', [key], {});\n",
              "      } catch (error) {\n",
              "        console.error('Error during call to suggestCharts:', error);\n",
              "      }\n",
              "      quickchartButtonEl.classList.remove('colab-df-spinner');\n",
              "      quickchartButtonEl.classList.add('colab-df-quickchart-complete');\n",
              "    }\n",
              "    (() => {\n",
              "      let quickchartButtonEl =\n",
              "        document.querySelector('#df-f8579f5a-b065-4dda-9646-b81667e53c47 button');\n",
              "      quickchartButtonEl.style.display =\n",
              "        google.colab.kernel.accessAllowed ? 'block' : 'none';\n",
              "    })();\n",
              "  </script>\n",
              "</div>\n",
              "    </div>\n",
              "  </div>\n"
            ]
          },
          "metadata": {}
        },
        {
          "output_type": "stream",
          "name": "stdout",
          "text": [
            "EAP\n"
          ]
        },
        {
          "output_type": "display_data",
          "data": {
            "text/plain": [
              "      token_count\n",
              "mean    29.385027\n",
              "std     21.010292\n",
              "min      4.000000\n",
              "max    289.000000"
            ],
            "text/html": [
              "\n",
              "  <div id=\"df-0116b39e-39b4-4810-a8a8-2bbc483cc7fe\" class=\"colab-df-container\">\n",
              "    <div>\n",
              "<style scoped>\n",
              "    .dataframe tbody tr th:only-of-type {\n",
              "        vertical-align: middle;\n",
              "    }\n",
              "\n",
              "    .dataframe tbody tr th {\n",
              "        vertical-align: top;\n",
              "    }\n",
              "\n",
              "    .dataframe thead th {\n",
              "        text-align: right;\n",
              "    }\n",
              "</style>\n",
              "<table border=\"1\" class=\"dataframe\">\n",
              "  <thead>\n",
              "    <tr style=\"text-align: right;\">\n",
              "      <th></th>\n",
              "      <th>token_count</th>\n",
              "    </tr>\n",
              "  </thead>\n",
              "  <tbody>\n",
              "    <tr>\n",
              "      <th>mean</th>\n",
              "      <td>29.385027</td>\n",
              "    </tr>\n",
              "    <tr>\n",
              "      <th>std</th>\n",
              "      <td>21.010292</td>\n",
              "    </tr>\n",
              "    <tr>\n",
              "      <th>min</th>\n",
              "      <td>4.000000</td>\n",
              "    </tr>\n",
              "    <tr>\n",
              "      <th>max</th>\n",
              "      <td>289.000000</td>\n",
              "    </tr>\n",
              "  </tbody>\n",
              "</table>\n",
              "</div>\n",
              "    <div class=\"colab-df-buttons\">\n",
              "\n",
              "  <div class=\"colab-df-container\">\n",
              "    <button class=\"colab-df-convert\" onclick=\"convertToInteractive('df-0116b39e-39b4-4810-a8a8-2bbc483cc7fe')\"\n",
              "            title=\"Convert this dataframe to an interactive table.\"\n",
              "            style=\"display:none;\">\n",
              "\n",
              "  <svg xmlns=\"http://www.w3.org/2000/svg\" height=\"24px\" viewBox=\"0 -960 960 960\">\n",
              "    <path d=\"M120-120v-720h720v720H120Zm60-500h600v-160H180v160Zm220 220h160v-160H400v160Zm0 220h160v-160H400v160ZM180-400h160v-160H180v160Zm440 0h160v-160H620v160ZM180-180h160v-160H180v160Zm440 0h160v-160H620v160Z\"/>\n",
              "  </svg>\n",
              "    </button>\n",
              "\n",
              "  <style>\n",
              "    .colab-df-container {\n",
              "      display:flex;\n",
              "      gap: 12px;\n",
              "    }\n",
              "\n",
              "    .colab-df-convert {\n",
              "      background-color: #E8F0FE;\n",
              "      border: none;\n",
              "      border-radius: 50%;\n",
              "      cursor: pointer;\n",
              "      display: none;\n",
              "      fill: #1967D2;\n",
              "      height: 32px;\n",
              "      padding: 0 0 0 0;\n",
              "      width: 32px;\n",
              "    }\n",
              "\n",
              "    .colab-df-convert:hover {\n",
              "      background-color: #E2EBFA;\n",
              "      box-shadow: 0px 1px 2px rgba(60, 64, 67, 0.3), 0px 1px 3px 1px rgba(60, 64, 67, 0.15);\n",
              "      fill: #174EA6;\n",
              "    }\n",
              "\n",
              "    .colab-df-buttons div {\n",
              "      margin-bottom: 4px;\n",
              "    }\n",
              "\n",
              "    [theme=dark] .colab-df-convert {\n",
              "      background-color: #3B4455;\n",
              "      fill: #D2E3FC;\n",
              "    }\n",
              "\n",
              "    [theme=dark] .colab-df-convert:hover {\n",
              "      background-color: #434B5C;\n",
              "      box-shadow: 0px 1px 3px 1px rgba(0, 0, 0, 0.15);\n",
              "      filter: drop-shadow(0px 1px 2px rgba(0, 0, 0, 0.3));\n",
              "      fill: #FFFFFF;\n",
              "    }\n",
              "  </style>\n",
              "\n",
              "    <script>\n",
              "      const buttonEl =\n",
              "        document.querySelector('#df-0116b39e-39b4-4810-a8a8-2bbc483cc7fe button.colab-df-convert');\n",
              "      buttonEl.style.display =\n",
              "        google.colab.kernel.accessAllowed ? 'block' : 'none';\n",
              "\n",
              "      async function convertToInteractive(key) {\n",
              "        const element = document.querySelector('#df-0116b39e-39b4-4810-a8a8-2bbc483cc7fe');\n",
              "        const dataTable =\n",
              "          await google.colab.kernel.invokeFunction('convertToInteractive',\n",
              "                                                    [key], {});\n",
              "        if (!dataTable) return;\n",
              "\n",
              "        const docLinkHtml = 'Like what you see? Visit the ' +\n",
              "          '<a target=\"_blank\" href=https://colab.research.google.com/notebooks/data_table.ipynb>data table notebook</a>'\n",
              "          + ' to learn more about interactive tables.';\n",
              "        element.innerHTML = '';\n",
              "        dataTable['output_type'] = 'display_data';\n",
              "        await google.colab.output.renderOutput(dataTable, element);\n",
              "        const docLink = document.createElement('div');\n",
              "        docLink.innerHTML = docLinkHtml;\n",
              "        element.appendChild(docLink);\n",
              "      }\n",
              "    </script>\n",
              "  </div>\n",
              "\n",
              "\n",
              "<div id=\"df-f2e9919f-9cf1-40ad-8e9b-f3272b5e8a11\">\n",
              "  <button class=\"colab-df-quickchart\" onclick=\"quickchart('df-f2e9919f-9cf1-40ad-8e9b-f3272b5e8a11')\"\n",
              "            title=\"Suggest charts\"\n",
              "            style=\"display:none;\">\n",
              "\n",
              "<svg xmlns=\"http://www.w3.org/2000/svg\" height=\"24px\"viewBox=\"0 0 24 24\"\n",
              "     width=\"24px\">\n",
              "    <g>\n",
              "        <path d=\"M19 3H5c-1.1 0-2 .9-2 2v14c0 1.1.9 2 2 2h14c1.1 0 2-.9 2-2V5c0-1.1-.9-2-2-2zM9 17H7v-7h2v7zm4 0h-2V7h2v10zm4 0h-2v-4h2v4z\"/>\n",
              "    </g>\n",
              "</svg>\n",
              "  </button>\n",
              "\n",
              "<style>\n",
              "  .colab-df-quickchart {\n",
              "      --bg-color: #E8F0FE;\n",
              "      --fill-color: #1967D2;\n",
              "      --hover-bg-color: #E2EBFA;\n",
              "      --hover-fill-color: #174EA6;\n",
              "      --disabled-fill-color: #AAA;\n",
              "      --disabled-bg-color: #DDD;\n",
              "  }\n",
              "\n",
              "  [theme=dark] .colab-df-quickchart {\n",
              "      --bg-color: #3B4455;\n",
              "      --fill-color: #D2E3FC;\n",
              "      --hover-bg-color: #434B5C;\n",
              "      --hover-fill-color: #FFFFFF;\n",
              "      --disabled-bg-color: #3B4455;\n",
              "      --disabled-fill-color: #666;\n",
              "  }\n",
              "\n",
              "  .colab-df-quickchart {\n",
              "    background-color: var(--bg-color);\n",
              "    border: none;\n",
              "    border-radius: 50%;\n",
              "    cursor: pointer;\n",
              "    display: none;\n",
              "    fill: var(--fill-color);\n",
              "    height: 32px;\n",
              "    padding: 0;\n",
              "    width: 32px;\n",
              "  }\n",
              "\n",
              "  .colab-df-quickchart:hover {\n",
              "    background-color: var(--hover-bg-color);\n",
              "    box-shadow: 0 1px 2px rgba(60, 64, 67, 0.3), 0 1px 3px 1px rgba(60, 64, 67, 0.15);\n",
              "    fill: var(--button-hover-fill-color);\n",
              "  }\n",
              "\n",
              "  .colab-df-quickchart-complete:disabled,\n",
              "  .colab-df-quickchart-complete:disabled:hover {\n",
              "    background-color: var(--disabled-bg-color);\n",
              "    fill: var(--disabled-fill-color);\n",
              "    box-shadow: none;\n",
              "  }\n",
              "\n",
              "  .colab-df-spinner {\n",
              "    border: 2px solid var(--fill-color);\n",
              "    border-color: transparent;\n",
              "    border-bottom-color: var(--fill-color);\n",
              "    animation:\n",
              "      spin 1s steps(1) infinite;\n",
              "  }\n",
              "\n",
              "  @keyframes spin {\n",
              "    0% {\n",
              "      border-color: transparent;\n",
              "      border-bottom-color: var(--fill-color);\n",
              "      border-left-color: var(--fill-color);\n",
              "    }\n",
              "    20% {\n",
              "      border-color: transparent;\n",
              "      border-left-color: var(--fill-color);\n",
              "      border-top-color: var(--fill-color);\n",
              "    }\n",
              "    30% {\n",
              "      border-color: transparent;\n",
              "      border-left-color: var(--fill-color);\n",
              "      border-top-color: var(--fill-color);\n",
              "      border-right-color: var(--fill-color);\n",
              "    }\n",
              "    40% {\n",
              "      border-color: transparent;\n",
              "      border-right-color: var(--fill-color);\n",
              "      border-top-color: var(--fill-color);\n",
              "    }\n",
              "    60% {\n",
              "      border-color: transparent;\n",
              "      border-right-color: var(--fill-color);\n",
              "    }\n",
              "    80% {\n",
              "      border-color: transparent;\n",
              "      border-right-color: var(--fill-color);\n",
              "      border-bottom-color: var(--fill-color);\n",
              "    }\n",
              "    90% {\n",
              "      border-color: transparent;\n",
              "      border-bottom-color: var(--fill-color);\n",
              "    }\n",
              "  }\n",
              "</style>\n",
              "\n",
              "  <script>\n",
              "    async function quickchart(key) {\n",
              "      const quickchartButtonEl =\n",
              "        document.querySelector('#' + key + ' button');\n",
              "      quickchartButtonEl.disabled = true;  // To prevent multiple clicks.\n",
              "      quickchartButtonEl.classList.add('colab-df-spinner');\n",
              "      try {\n",
              "        const charts = await google.colab.kernel.invokeFunction(\n",
              "            'suggestCharts', [key], {});\n",
              "      } catch (error) {\n",
              "        console.error('Error during call to suggestCharts:', error);\n",
              "      }\n",
              "      quickchartButtonEl.classList.remove('colab-df-spinner');\n",
              "      quickchartButtonEl.classList.add('colab-df-quickchart-complete');\n",
              "    }\n",
              "    (() => {\n",
              "      let quickchartButtonEl =\n",
              "        document.querySelector('#df-f2e9919f-9cf1-40ad-8e9b-f3272b5e8a11 button');\n",
              "      quickchartButtonEl.style.display =\n",
              "        google.colab.kernel.accessAllowed ? 'block' : 'none';\n",
              "    })();\n",
              "  </script>\n",
              "</div>\n",
              "    </div>\n",
              "  </div>\n"
            ]
          },
          "metadata": {}
        },
        {
          "output_type": "stream",
          "name": "stdout",
          "text": [
            "after cleaning train 13801\n"
          ]
        }
      ],
      "source": [
        "print(\"original train\", len(df_train))\n",
        "\n",
        "df_train['token_count'] = df_train['tokens'].apply(len)\n",
        "\n",
        "for author in set(df_train['author'].values):\n",
        "    print(author)\n",
        "    stats = df_train[df_train['author']==author][['token_count']].describe()\n",
        "    display(stats.loc[['mean', 'std', 'min', 'max']])\n",
        "\n",
        "    max_len = stats.loc['mean']['token_count'] + stats.loc['std']['token_count']\n",
        "    min_len = stats.loc['mean']['token_count'] - stats.loc['std']['token_count']\n",
        "\n",
        "    df_train.drop(df_train[(df_train['author']==author)&(df_train['token_count']>max_len)].index, inplace = True)\n",
        "\n",
        "print(\"after cleaning train\", len(df_train))"
      ]
    },
    {
      "cell_type": "markdown",
      "metadata": {
        "id": "EX2sxFVDnyAy"
      },
      "source": [
        "# POS Tagging"
      ]
    },
    {
      "cell_type": "markdown",
      "metadata": {
        "id": "3z3jgdFen1yw"
      },
      "source": [
        "#### Definitions\n",
        "**POS tags** = Various parts of speech (POS) tags such as nouns, verbs, adjectives, and adverbs. POS tags are also known as word classes, morphological classes, or lexical tags.\n",
        "\n",
        "**Pos Tagging** =\n",
        "Associating each word in a sentence with a proper POS is known as POS tagging or POS annotation.\n",
        "\n",
        "### Method\n",
        "**Stochastic (Probabilistic) tagging**\n",
        "The simplest stochastic approach finds out the most frequently used tag for a specific word in the annotated training data and uses this information to tag that word in the unannotated text.This approach comes up with sequences of tags for sentences that are not acceptable according to the grammar rules of a language!\n",
        "\n",
        "Instead, an other possible approach is to calculate the probabilities of various tag sequences that are possible for a sentence. Then the probability of each sequence can be evaluated and the POS tags to assign are the sequence with the highest probability.\n",
        "\n",
        "**Hidden Markov Models (HMMs)** are probabilistic approaches to assign a POS Tag.\n",
        "\n",
        "\n",
        "https://www.nltk.org/api/nltk.tag.hmm.html\n",
        "\n",
        "Hidden Markov Models (HMMs) largely used to assign the correct label sequence to sequential data.\n",
        "\n",
        "These models are finite state machines characterised by:\n",
        "- a number of states\n",
        "- output symbols emitted while in each state\n",
        "- transitions between these states\n",
        "\n",
        "They can be represented as directed graphs:\n",
        "- states are nodes: each state correspond to a POS tag\n",
        "- each vertex emits an output symbol when entered (emission probability) defined over the output observation alphabet (symbols which may be observed as output of the system)\n",
        "- probability weighted edges representing the probability of a transition between the source and sink states (generating a POS tag given the previous one)\n",
        "\n",
        "HMMs hence share the Markov chain’s assumption, being that the probability of transition from one state to another only depends on the current state - i.e. the series of states that led to the current state are not used.\n",
        "\n",
        "The aim is to identify the path (as a sequence of states) that maximize the probability of emitting the analyzed sequence.\n",
        "\n",
        "Formally, a HMM can be characterised by:\n",
        "- the transition probabilities $a_{ij} = P(s_t = j | s_{t-1} = i)$. These represent the probability of transition to each state from a given state.\n",
        "\n",
        "- the output probability matrix $b_i(k) = P(X_t = o_k | s_t = i)$. These represent the probability of observing each symbol in a given state. We often refer to this output probabilities as \"emission\" probabilities.\n",
        "\n",
        "- the initial state distribution. This gives the probability of starting in each state.\n",
        "\n",
        "The Markov Chain assumption is used since the $P(s_t| s_1, ... s_{t-1})$ is assumed to be equivalent to $P(s_t| s_{t-1})$.\n",
        "Ex: we are modeling the probability of generating a \"Verb\" knowing that a \"Noun\" has been generated, _not_ that a \"Verb\" is generated from a sequence such as \"Article Name,\" for example.\n",
        "\n"
      ]
    },
    {
      "cell_type": "markdown",
      "source": [
        "## Train HMM Pos Tagger"
      ],
      "metadata": {
        "id": "a4-OMhibVFL2"
      }
    },
    {
      "cell_type": "markdown",
      "source": [
        "https://www.mygreatlearning.com/blog/pos-tagging/\n",
        "\n",
        "\n",
        "![pos2.png](data:image/png;base64,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)"
      ],
      "metadata": {
        "id": "2yzLXcP5ny2J"
      }
    },
    {
      "cell_type": "code",
      "execution_count": null,
      "metadata": {
        "colab": {
          "base_uri": "https://localhost:8080/"
        },
        "id": "bqT7YhqLs-Kl",
        "outputId": "0d6e3dbf-afd8-4d16-8f68-29aeb173e8dc"
      },
      "outputs": [
        {
          "output_type": "stream",
          "name": "stderr",
          "text": [
            "[nltk_data] Downloading package brown to /root/nltk_data...\n",
            "[nltk_data]   Unzipping corpora/brown.zip.\n",
            "[nltk_data] Downloading package universal_tagset to /root/nltk_data...\n",
            "[nltk_data]   Unzipping taggers/universal_tagset.zip.\n"
          ]
        },
        {
          "output_type": "stream",
          "name": "stdout",
          "text": [
            "len(brown_data) 57340\n",
            "[('The', 'DET'), ('Fulton', 'NOUN'), ('County', 'NOUN'), ('Grand', 'ADJ'), ('Jury', 'NOUN'), ('said', 'VERB'), ('Friday', 'NOUN'), ('an', 'DET'), ('investigation', 'NOUN'), ('of', 'ADP'), (\"Atlanta's\", 'NOUN'), ('recent', 'ADJ'), ('primary', 'NOUN'), ('election', 'NOUN'), ('produced', 'VERB'), ('``', '.'), ('no', 'DET'), ('evidence', 'NOUN'), (\"''\", '.'), ('that', 'ADP'), ('any', 'DET'), ('irregularities', 'NOUN'), ('took', 'VERB'), ('place', 'NOUN'), ('.', '.')]\n"
          ]
        }
      ],
      "source": [
        "# Import the toolkit and tags\n",
        "import nltk\n",
        "from nltk.corpus import brown\n",
        "\n",
        "\n",
        "nltk.download('brown')\n",
        "nltk.download('universal_tagset')\n",
        "\n",
        "# Train data - pretagged\n",
        "brown_data = brown.tagged_sents(tagset='universal')\n",
        "print(\"len(brown_data)\", len(brown_data))\n",
        "print(brown_data[0])"
      ]
    },
    {
      "cell_type": "markdown",
      "source": [
        "Training of our HMM Tagger on the brown corpus. As a tagset, we will use the Universal Tagset (from the Universal Dependecy project)"
      ],
      "metadata": {
        "id": "88ASxvJeTrjq"
      }
    },
    {
      "cell_type": "code",
      "source": [
        "# Import HMM module - https://www.nltk.org/api/nltk.tag.hmm.html\n",
        "from nltk.tag import hmm\n",
        "\n",
        "# Setup a trainer with default(None) values\n",
        "# And train with the data\n",
        "trainer = hmm.HiddenMarkovModelTrainer()\n",
        "tagger = trainer.train_supervised(brown_data)\n",
        "\n",
        "# Prints the basic data about the tagger\n",
        "print(tagger)\n",
        "\n",
        "print(tagger.tag(df_train['tokens'].values[0]))\n",
        "print(tagger.tag(\"Chicago is the birthplace of Ginny\".split()))"
      ],
      "metadata": {
        "colab": {
          "base_uri": "https://localhost:8080/"
        },
        "id": "JCObJWMmI7Ns",
        "outputId": "df407944-dab6-4639-8d8d-ba6e17c7d296"
      },
      "execution_count": null,
      "outputs": [
        {
          "output_type": "stream",
          "name": "stdout",
          "text": [
            "<HiddenMarkovModelTagger 12 states and 56057 output symbols>\n",
            "[('it', 'PRON'), ('will', 'VERB'), ('have', 'VERB'), ('been', 'VERB'), (',', '.'), ('by', 'ADP'), ('that', 'DET'), ('time', 'NOUN'), (',', '.'), ('totally', 'ADV'), ('destroyed', 'VERB'), (',', '.'), ('at', 'ADP'), ('three', 'NUM'), ('different', 'ADJ'), ('periods', 'NOUN'), (',', '.'), ('by', 'ADP'), ('three', 'NUM'), ('successive', 'ADJ'), ('earthquakes', 'NOUN'), ('.', '.')]\n",
            "[('Chicago', 'NOUN'), ('is', 'VERB'), ('the', 'DET'), ('birthplace', 'NOUN'), ('of', 'ADP'), ('Ginny', 'DET')]\n"
          ]
        }
      ]
    },
    {
      "cell_type": "code",
      "source": [
        "print(\"states\", tagger._states)\n",
        "print(\"transition matrix\", tagger._transitions_matrix().shape)\n",
        "print(\"emission probabilities for tag == ADJ\", tagger._outputs['ADJ'])"
      ],
      "metadata": {
        "colab": {
          "base_uri": "https://localhost:8080/"
        },
        "id": "9mViPpknopfs",
        "outputId": "b27bf6a2-44e3-4526-fc50-39d49ac65730"
      },
      "execution_count": null,
      "outputs": [
        {
          "output_type": "stream",
          "name": "stdout",
          "text": [
            "states ['DET', 'NOUN', 'ADJ', 'VERB', 'ADP', '.', 'ADV', 'CONJ', 'PRT', 'PRON', 'NUM', 'X']\n",
            "transition matrix (12, 12)\n",
            "emission probabilities for tag == ADJ <MLEProbDist based on 83721 samples>\n"
          ]
        }
      ]
    },
    {
      "cell_type": "code",
      "source": [
        "len([pos for s in brown_data for (x, pos) in s if pos == 'ADJ' ]) # check that the number of ADJ samples match the tagger indication"
      ],
      "metadata": {
        "colab": {
          "base_uri": "https://localhost:8080/"
        },
        "id": "A2HXruc2xEnI",
        "outputId": "4e7eedfd-043c-4622-e24b-1b6c3882865b"
      },
      "execution_count": null,
      "outputs": [
        {
          "output_type": "execute_result",
          "data": {
            "text/plain": [
              "83721"
            ]
          },
          "metadata": {},
          "execution_count": 15
        }
      ]
    },
    {
      "cell_type": "code",
      "execution_count": null,
      "metadata": {
        "id": "TqCzDXJ0tEu9"
      },
      "outputs": [],
      "source": [
        "pos_tagger= tagger.tag #nltk.pos_tag"
      ]
    },
    {
      "cell_type": "code",
      "execution_count": null,
      "metadata": {
        "colab": {
          "base_uri": "https://localhost:8080/",
          "height": 570
        },
        "id": "fcQhZnCytIgr",
        "outputId": "b1bd8e82-926c-4934-9537-f37824d00cbe"
      },
      "outputs": [
        {
          "output_type": "execute_result",
          "data": {
            "text/plain": [
              "        id  \\\n",
              "0  id10914   \n",
              "1  id03295   \n",
              "3  id26189   \n",
              "4  id07955   \n",
              "5  id19194   \n",
              "\n",
              "                                                                                                                                                                                                                                                text  \\\n",
              "0                                                                                                                                   It will have been, by that time, totally destroyed, at three different periods, by three successive earthquakes.   \n",
              "1                                                                                                                                                                                                     Make me happy, and I shall again be virtuous.\"   \n",
              "3                                                                                                                                                                                                           The heat became all at once intolerable.   \n",
              "4  What, indeed, was my passion for the young girl of the valley in comparison with the fervor, and the delirium, and the spirit lifting ecstasy of adoration with which I poured out my whole soul in tears at the feet of the ethereal Ermengarde?   \n",
              "5                                                                                                                              For such follies, even in childhood, I had imbibed a taste and now they came back to me as if in the dotage of grief.   \n",
              "\n",
              "  author  \\\n",
              "0    EAP   \n",
              "1    MWS   \n",
              "3    EAP   \n",
              "4    EAP   \n",
              "5    EAP   \n",
              "\n",
              "                                                                                                                                                                                                                                          clean_text  \\\n",
              "0                                                                                                                                   it will have been, by that time, totally destroyed, at three different periods, by three successive earthquakes.   \n",
              "1                                                                                                                                                                                                     make me happy, and i shall again be virtuous.\"   \n",
              "3                                                                                                                                                                                                           the heat became all at once intolerable.   \n",
              "4  what, indeed, was my passion for the young girl of the valley in comparison with the fervor, and the delirium, and the spirit lifting ecstasy of adoration with which i poured out my whole soul in tears at the feet of the ethereal ermengarde?   \n",
              "5                                                                                                                              for such follies, even in childhood, i had imbibed a taste and now they came back to me as if in the dotage of grief.   \n",
              "\n",
              "                                                                                                                                                                                                                                                                                                     tokens  \\\n",
              "0                                                                                                                                                              [it, will, have, been, ,, by, that, time, ,, totally, destroyed, ,, at, three, different, periods, ,, by, three, successive, earthquakes, .]   \n",
              "1                                                                                                                                                                                                                                           [make, me, happy, ,, and, i, shall, again, be, virtuous, ., '']   \n",
              "3                                                                                                                                                                                                                                                        [the, heat, became, all, at, once, intolerable, .]   \n",
              "4  [what, ,, indeed, ,, was, my, passion, for, the, young, girl, of, the, valley, in, comparison, with, the, fervor, ,, and, the, delirium, ,, and, the, spirit, lifting, ecstasy, of, adoration, with, which, i, poured, out, my, whole, soul, in, tears, at, the, feet, of, the, ethereal, ermengarde, ?]   \n",
              "5                                                                                                                                                     [for, such, follies, ,, even, in, childhood, ,, i, had, imbibed, a, taste, and, now, they, came, back, to, me, as, if, in, the, dotage, of, grief, .]   \n",
              "\n",
              "   token_count  \\\n",
              "0           22   \n",
              "1           12   \n",
              "3            8   \n",
              "4           49   \n",
              "5           28   \n",
              "\n",
              "                                                                                                                                                                                                                                                         pos  \n",
              "0                                                                                                                                               [PRON, VERB, VERB, VERB, ., ADP, DET, NOUN, ., ADV, VERB, ., ADP, NUM, ADJ, NOUN, ., ADP, NUM, ADJ, NOUN, .]  \n",
              "1                                                                                                                                                                                               [VERB, PRON, ADJ, ., CONJ, NOUN, VERB, ADV, VERB, ADJ, ., .]  \n",
              "3                                                                                                                                                                                                                   [DET, NOUN, VERB, PRT, ADP, ADV, ADJ, .]  \n",
              "4  [DET, ., ADV, ., VERB, DET, NOUN, ADP, DET, ADJ, NOUN, ADP, DET, NOUN, ADP, NOUN, ADP, DET, NOUN, ., CONJ, DET, NOUN, ., CONJ, DET, NOUN, VERB, NOUN, ADP, DET, DET, DET, DET, DET, DET, DET, DET, DET, DET, DET, DET, DET, DET, DET, DET, DET, DET, DET]  \n",
              "5                                                                                                         [ADP, ADJ, NOUN, ., ADV, ADP, NOUN, ., NOUN, VERB, VERB, DET, NOUN, CONJ, ADV, PRON, VERB, ADV, ADP, PRON, ADV, ADP, ADP, DET, DET, DET, DET, DET]  "
            ],
            "text/html": [
              "\n",
              "  <div id=\"df-1878af42-da62-4c06-9b67-faaa9208d99d\" class=\"colab-df-container\">\n",
              "    <div>\n",
              "<style scoped>\n",
              "    .dataframe tbody tr th:only-of-type {\n",
              "        vertical-align: middle;\n",
              "    }\n",
              "\n",
              "    .dataframe tbody tr th {\n",
              "        vertical-align: top;\n",
              "    }\n",
              "\n",
              "    .dataframe thead th {\n",
              "        text-align: right;\n",
              "    }\n",
              "</style>\n",
              "<table border=\"1\" class=\"dataframe\">\n",
              "  <thead>\n",
              "    <tr style=\"text-align: right;\">\n",
              "      <th></th>\n",
              "      <th>id</th>\n",
              "      <th>text</th>\n",
              "      <th>author</th>\n",
              "      <th>clean_text</th>\n",
              "      <th>tokens</th>\n",
              "      <th>token_count</th>\n",
              "      <th>pos</th>\n",
              "    </tr>\n",
              "  </thead>\n",
              "  <tbody>\n",
              "    <tr>\n",
              "      <th>0</th>\n",
              "      <td>id10914</td>\n",
              "      <td>It will have been, by that time, totally destroyed, at three different periods, by three successive earthquakes.</td>\n",
              "      <td>EAP</td>\n",
              "      <td>it will have been, by that time, totally destroyed, at three different periods, by three successive earthquakes.</td>\n",
              "      <td>[it, will, have, been, ,, by, that, time, ,, totally, destroyed, ,, at, three, different, periods, ,, by, three, successive, earthquakes, .]</td>\n",
              "      <td>22</td>\n",
              "      <td>[PRON, VERB, VERB, VERB, ., ADP, DET, NOUN, ., ADV, VERB, ., ADP, NUM, ADJ, NOUN, ., ADP, NUM, ADJ, NOUN, .]</td>\n",
              "    </tr>\n",
              "    <tr>\n",
              "      <th>1</th>\n",
              "      <td>id03295</td>\n",
              "      <td>Make me happy, and I shall again be virtuous.\"</td>\n",
              "      <td>MWS</td>\n",
              "      <td>make me happy, and i shall again be virtuous.\"</td>\n",
              "      <td>[make, me, happy, ,, and, i, shall, again, be, virtuous, ., '']</td>\n",
              "      <td>12</td>\n",
              "      <td>[VERB, PRON, ADJ, ., CONJ, NOUN, VERB, ADV, VERB, ADJ, ., .]</td>\n",
              "    </tr>\n",
              "    <tr>\n",
              "      <th>3</th>\n",
              "      <td>id26189</td>\n",
              "      <td>The heat became all at once intolerable.</td>\n",
              "      <td>EAP</td>\n",
              "      <td>the heat became all at once intolerable.</td>\n",
              "      <td>[the, heat, became, all, at, once, intolerable, .]</td>\n",
              "      <td>8</td>\n",
              "      <td>[DET, NOUN, VERB, PRT, ADP, ADV, ADJ, .]</td>\n",
              "    </tr>\n",
              "    <tr>\n",
              "      <th>4</th>\n",
              "      <td>id07955</td>\n",
              "      <td>What, indeed, was my passion for the young girl of the valley in comparison with the fervor, and the delirium, and the spirit lifting ecstasy of adoration with which I poured out my whole soul in tears at the feet of the ethereal Ermengarde?</td>\n",
              "      <td>EAP</td>\n",
              "      <td>what, indeed, was my passion for the young girl of the valley in comparison with the fervor, and the delirium, and the spirit lifting ecstasy of adoration with which i poured out my whole soul in tears at the feet of the ethereal ermengarde?</td>\n",
              "      <td>[what, ,, indeed, ,, was, my, passion, for, the, young, girl, of, the, valley, in, comparison, with, the, fervor, ,, and, the, delirium, ,, and, the, spirit, lifting, ecstasy, of, adoration, with, which, i, poured, out, my, whole, soul, in, tears, at, the, feet, of, the, ethereal, ermengarde, ?]</td>\n",
              "      <td>49</td>\n",
              "      <td>[DET, ., ADV, ., VERB, DET, NOUN, ADP, DET, ADJ, NOUN, ADP, DET, NOUN, ADP, NOUN, ADP, DET, NOUN, ., CONJ, DET, NOUN, ., CONJ, DET, NOUN, VERB, NOUN, ADP, DET, DET, DET, DET, DET, DET, DET, DET, DET, DET, DET, DET, DET, DET, DET, DET, DET, DET, DET]</td>\n",
              "    </tr>\n",
              "    <tr>\n",
              "      <th>5</th>\n",
              "      <td>id19194</td>\n",
              "      <td>For such follies, even in childhood, I had imbibed a taste and now they came back to me as if in the dotage of grief.</td>\n",
              "      <td>EAP</td>\n",
              "      <td>for such follies, even in childhood, i had imbibed a taste and now they came back to me as if in the dotage of grief.</td>\n",
              "      <td>[for, such, follies, ,, even, in, childhood, ,, i, had, imbibed, a, taste, and, now, they, came, back, to, me, as, if, in, the, dotage, of, grief, .]</td>\n",
              "      <td>28</td>\n",
              "      <td>[ADP, ADJ, NOUN, ., ADV, ADP, NOUN, ., NOUN, VERB, VERB, DET, NOUN, CONJ, ADV, PRON, VERB, ADV, ADP, PRON, ADV, ADP, ADP, DET, DET, DET, DET, DET]</td>\n",
              "    </tr>\n",
              "  </tbody>\n",
              "</table>\n",
              "</div>\n",
              "    <div class=\"colab-df-buttons\">\n",
              "\n",
              "  <div class=\"colab-df-container\">\n",
              "    <button class=\"colab-df-convert\" onclick=\"convertToInteractive('df-1878af42-da62-4c06-9b67-faaa9208d99d')\"\n",
              "            title=\"Convert this dataframe to an interactive table.\"\n",
              "            style=\"display:none;\">\n",
              "\n",
              "  <svg xmlns=\"http://www.w3.org/2000/svg\" height=\"24px\" viewBox=\"0 -960 960 960\">\n",
              "    <path d=\"M120-120v-720h720v720H120Zm60-500h600v-160H180v160Zm220 220h160v-160H400v160Zm0 220h160v-160H400v160ZM180-400h160v-160H180v160Zm440 0h160v-160H620v160ZM180-180h160v-160H180v160Zm440 0h160v-160H620v160Z\"/>\n",
              "  </svg>\n",
              "    </button>\n",
              "\n",
              "  <style>\n",
              "    .colab-df-container {\n",
              "      display:flex;\n",
              "      gap: 12px;\n",
              "    }\n",
              "\n",
              "    .colab-df-convert {\n",
              "      background-color: #E8F0FE;\n",
              "      border: none;\n",
              "      border-radius: 50%;\n",
              "      cursor: pointer;\n",
              "      display: none;\n",
              "      fill: #1967D2;\n",
              "      height: 32px;\n",
              "      padding: 0 0 0 0;\n",
              "      width: 32px;\n",
              "    }\n",
              "\n",
              "    .colab-df-convert:hover {\n",
              "      background-color: #E2EBFA;\n",
              "      box-shadow: 0px 1px 2px rgba(60, 64, 67, 0.3), 0px 1px 3px 1px rgba(60, 64, 67, 0.15);\n",
              "      fill: #174EA6;\n",
              "    }\n",
              "\n",
              "    .colab-df-buttons div {\n",
              "      margin-bottom: 4px;\n",
              "    }\n",
              "\n",
              "    [theme=dark] .colab-df-convert {\n",
              "      background-color: #3B4455;\n",
              "      fill: #D2E3FC;\n",
              "    }\n",
              "\n",
              "    [theme=dark] .colab-df-convert:hover {\n",
              "      background-color: #434B5C;\n",
              "      box-shadow: 0px 1px 3px 1px rgba(0, 0, 0, 0.15);\n",
              "      filter: drop-shadow(0px 1px 2px rgba(0, 0, 0, 0.3));\n",
              "      fill: #FFFFFF;\n",
              "    }\n",
              "  </style>\n",
              "\n",
              "    <script>\n",
              "      const buttonEl =\n",
              "        document.querySelector('#df-1878af42-da62-4c06-9b67-faaa9208d99d button.colab-df-convert');\n",
              "      buttonEl.style.display =\n",
              "        google.colab.kernel.accessAllowed ? 'block' : 'none';\n",
              "\n",
              "      async function convertToInteractive(key) {\n",
              "        const element = document.querySelector('#df-1878af42-da62-4c06-9b67-faaa9208d99d');\n",
              "        const dataTable =\n",
              "          await google.colab.kernel.invokeFunction('convertToInteractive',\n",
              "                                                    [key], {});\n",
              "        if (!dataTable) return;\n",
              "\n",
              "        const docLinkHtml = 'Like what you see? Visit the ' +\n",
              "          '<a target=\"_blank\" href=https://colab.research.google.com/notebooks/data_table.ipynb>data table notebook</a>'\n",
              "          + ' to learn more about interactive tables.';\n",
              "        element.innerHTML = '';\n",
              "        dataTable['output_type'] = 'display_data';\n",
              "        await google.colab.output.renderOutput(dataTable, element);\n",
              "        const docLink = document.createElement('div');\n",
              "        docLink.innerHTML = docLinkHtml;\n",
              "        element.appendChild(docLink);\n",
              "      }\n",
              "    </script>\n",
              "  </div>\n",
              "\n",
              "\n",
              "<div id=\"df-23d33aa0-5937-47fa-ba34-e2f32f4bae26\">\n",
              "  <button class=\"colab-df-quickchart\" onclick=\"quickchart('df-23d33aa0-5937-47fa-ba34-e2f32f4bae26')\"\n",
              "            title=\"Suggest charts\"\n",
              "            style=\"display:none;\">\n",
              "\n",
              "<svg xmlns=\"http://www.w3.org/2000/svg\" height=\"24px\"viewBox=\"0 0 24 24\"\n",
              "     width=\"24px\">\n",
              "    <g>\n",
              "        <path d=\"M19 3H5c-1.1 0-2 .9-2 2v14c0 1.1.9 2 2 2h14c1.1 0 2-.9 2-2V5c0-1.1-.9-2-2-2zM9 17H7v-7h2v7zm4 0h-2V7h2v10zm4 0h-2v-4h2v4z\"/>\n",
              "    </g>\n",
              "</svg>\n",
              "  </button>\n",
              "\n",
              "<style>\n",
              "  .colab-df-quickchart {\n",
              "      --bg-color: #E8F0FE;\n",
              "      --fill-color: #1967D2;\n",
              "      --hover-bg-color: #E2EBFA;\n",
              "      --hover-fill-color: #174EA6;\n",
              "      --disabled-fill-color: #AAA;\n",
              "      --disabled-bg-color: #DDD;\n",
              "  }\n",
              "\n",
              "  [theme=dark] .colab-df-quickchart {\n",
              "      --bg-color: #3B4455;\n",
              "      --fill-color: #D2E3FC;\n",
              "      --hover-bg-color: #434B5C;\n",
              "      --hover-fill-color: #FFFFFF;\n",
              "      --disabled-bg-color: #3B4455;\n",
              "      --disabled-fill-color: #666;\n",
              "  }\n",
              "\n",
              "  .colab-df-quickchart {\n",
              "    background-color: var(--bg-color);\n",
              "    border: none;\n",
              "    border-radius: 50%;\n",
              "    cursor: pointer;\n",
              "    display: none;\n",
              "    fill: var(--fill-color);\n",
              "    height: 32px;\n",
              "    padding: 0;\n",
              "    width: 32px;\n",
              "  }\n",
              "\n",
              "  .colab-df-quickchart:hover {\n",
              "    background-color: var(--hover-bg-color);\n",
              "    box-shadow: 0 1px 2px rgba(60, 64, 67, 0.3), 0 1px 3px 1px rgba(60, 64, 67, 0.15);\n",
              "    fill: var(--button-hover-fill-color);\n",
              "  }\n",
              "\n",
              "  .colab-df-quickchart-complete:disabled,\n",
              "  .colab-df-quickchart-complete:disabled:hover {\n",
              "    background-color: var(--disabled-bg-color);\n",
              "    fill: var(--disabled-fill-color);\n",
              "    box-shadow: none;\n",
              "  }\n",
              "\n",
              "  .colab-df-spinner {\n",
              "    border: 2px solid var(--fill-color);\n",
              "    border-color: transparent;\n",
              "    border-bottom-color: var(--fill-color);\n",
              "    animation:\n",
              "      spin 1s steps(1) infinite;\n",
              "  }\n",
              "\n",
              "  @keyframes spin {\n",
              "    0% {\n",
              "      border-color: transparent;\n",
              "      border-bottom-color: var(--fill-color);\n",
              "      border-left-color: var(--fill-color);\n",
              "    }\n",
              "    20% {\n",
              "      border-color: transparent;\n",
              "      border-left-color: var(--fill-color);\n",
              "      border-top-color: var(--fill-color);\n",
              "    }\n",
              "    30% {\n",
              "      border-color: transparent;\n",
              "      border-left-color: var(--fill-color);\n",
              "      border-top-color: var(--fill-color);\n",
              "      border-right-color: var(--fill-color);\n",
              "    }\n",
              "    40% {\n",
              "      border-color: transparent;\n",
              "      border-right-color: var(--fill-color);\n",
              "      border-top-color: var(--fill-color);\n",
              "    }\n",
              "    60% {\n",
              "      border-color: transparent;\n",
              "      border-right-color: var(--fill-color);\n",
              "    }\n",
              "    80% {\n",
              "      border-color: transparent;\n",
              "      border-right-color: var(--fill-color);\n",
              "      border-bottom-color: var(--fill-color);\n",
              "    }\n",
              "    90% {\n",
              "      border-color: transparent;\n",
              "      border-bottom-color: var(--fill-color);\n",
              "    }\n",
              "  }\n",
              "</style>\n",
              "\n",
              "  <script>\n",
              "    async function quickchart(key) {\n",
              "      const quickchartButtonEl =\n",
              "        document.querySelector('#' + key + ' button');\n",
              "      quickchartButtonEl.disabled = true;  // To prevent multiple clicks.\n",
              "      quickchartButtonEl.classList.add('colab-df-spinner');\n",
              "      try {\n",
              "        const charts = await google.colab.kernel.invokeFunction(\n",
              "            'suggestCharts', [key], {});\n",
              "      } catch (error) {\n",
              "        console.error('Error during call to suggestCharts:', error);\n",
              "      }\n",
              "      quickchartButtonEl.classList.remove('colab-df-spinner');\n",
              "      quickchartButtonEl.classList.add('colab-df-quickchart-complete');\n",
              "    }\n",
              "    (() => {\n",
              "      let quickchartButtonEl =\n",
              "        document.querySelector('#df-23d33aa0-5937-47fa-ba34-e2f32f4bae26 button');\n",
              "      quickchartButtonEl.style.display =\n",
              "        google.colab.kernel.accessAllowed ? 'block' : 'none';\n",
              "    })();\n",
              "  </script>\n",
              "</div>\n",
              "    </div>\n",
              "  </div>\n"
            ]
          },
          "metadata": {},
          "execution_count": 17
        }
      ],
      "source": [
        "df_train['pos'] = df_train['tokens'].apply(pos_tagger)\n",
        "df_train[\"pos\"]= df_train[\"pos\"].apply(lambda x: [el[1] for el in x])\n",
        "\n",
        "\n",
        "df_test['pos'] = df_test['tokens'].apply(pos_tagger)\n",
        "df_test[\"pos\"]= df_test[\"pos\"].apply(lambda x: [el[1] for el in x])\n",
        "\n",
        "\n",
        "df_train.head()"
      ]
    },
    {
      "cell_type": "markdown",
      "source": [
        "## Train of SVM Classifier on Bag Of POS representations"
      ],
      "metadata": {
        "id": "HnuazFlIdpo1"
      }
    },
    {
      "cell_type": "code",
      "source": [
        "def bag_of_pos(pos_tags_annotations, tagger):\n",
        "    bop = []\n",
        "    for pos_tags in pos_tags_annotations:\n",
        "        count = {pos_tag: 0 for pos_tag in tagger._states}\n",
        "        for pos_tag in pos_tags:\n",
        "            count[pos_tag] +=1\n",
        "        bop.append(count)\n",
        "    return bop"
      ],
      "metadata": {
        "id": "L-lT9KZssAxW"
      },
      "execution_count": null,
      "outputs": []
    },
    {
      "cell_type": "code",
      "execution_count": null,
      "metadata": {
        "colab": {
          "base_uri": "https://localhost:8080/"
        },
        "id": "p-5JGsu1tSRJ",
        "outputId": "b8c2917d-b04f-401a-be0d-152874585b34"
      },
      "outputs": [
        {
          "output_type": "stream",
          "name": "stdout",
          "text": [
            "Vocabulary:  {'.': 0, 'ADJ': 1, 'ADP': 2, 'ADV': 3, 'CONJ': 4, 'DET': 5, 'NOUN': 6, 'NUM': 7, 'PRON': 8, 'PRT': 9, 'VERB': 10, 'X': 11}\n"
          ]
        }
      ],
      "source": [
        "import numpy as np\n",
        "from sklearn.feature_extraction import DictVectorizer\n",
        "\n",
        "\n",
        "bop_train = bag_of_pos(df_train['pos'].values, tagger)\n",
        "\n",
        "vectorizer = DictVectorizer()\n",
        "vectorizer.fit(bop_train)\n",
        "\n",
        "# summarize\n",
        "print(\"Vocabulary: \", vectorizer.vocabulary_)"
      ]
    },
    {
      "cell_type": "code",
      "execution_count": null,
      "metadata": {
        "id": "zUxjUTD9tVUt"
      },
      "outputs": [],
      "source": [
        "train_vector = vectorizer.transform(bag_of_pos(df_train['pos'].values, tagger))\n",
        "test_vector =  vectorizer.transform(bag_of_pos(df_test['pos'].values, tagger))"
      ]
    },
    {
      "cell_type": "markdown",
      "source": [
        "https://www.google.com/url?sa=i&url=https%3A%2F%2Fwww.researchgate.net%2Ffigure%2Fsualizing-one-vs-all-multi-classification-of-SVM-for-three-classes-W-represent-binary_fig2_361930909&psig=AOvVaw02BXeVF2d1i0atq2GZduCX&ust=1699614863813000&source=images&cd=vfe&opi=89978449&ved=0CBMQjhxqFwoTCLjYs_PktoIDFQAAAAAdAAAAABAE"
      ],
      "metadata": {
        "id": "ihVfnqB_zIYh"
      }
    },
    {
      "cell_type": "markdown",
      "source": [
        "![sualizing-one-vs-all-multi-classification-of-SVM-for-three-classes-W-represent-binary.png](data:image/png;base64,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)"
      ],
      "metadata": {
        "id": "W6fqiQgLy5KN"
      }
    },
    {
      "cell_type": "code",
      "execution_count": null,
      "metadata": {
        "colab": {
          "base_uri": "https://localhost:8080/",
          "height": 74
        },
        "id": "OHQGSFY0te5Y",
        "outputId": "b6356f05-052f-4e17-8b17-26a8e977fea0"
      },
      "outputs": [
        {
          "output_type": "execute_result",
          "data": {
            "text/plain": [
              "SVC(kernel='linear')"
            ],
            "text/html": [
              "<style>#sk-container-id-1 {color: black;background-color: white;}#sk-container-id-1 pre{padding: 0;}#sk-container-id-1 div.sk-toggleable {background-color: white;}#sk-container-id-1 label.sk-toggleable__label {cursor: pointer;display: block;width: 100%;margin-bottom: 0;padding: 0.3em;box-sizing: border-box;text-align: center;}#sk-container-id-1 label.sk-toggleable__label-arrow:before {content: \"▸\";float: left;margin-right: 0.25em;color: #696969;}#sk-container-id-1 label.sk-toggleable__label-arrow:hover:before {color: black;}#sk-container-id-1 div.sk-estimator:hover label.sk-toggleable__label-arrow:before {color: black;}#sk-container-id-1 div.sk-toggleable__content {max-height: 0;max-width: 0;overflow: hidden;text-align: left;background-color: #f0f8ff;}#sk-container-id-1 div.sk-toggleable__content pre {margin: 0.2em;color: black;border-radius: 0.25em;background-color: #f0f8ff;}#sk-container-id-1 input.sk-toggleable__control:checked~div.sk-toggleable__content {max-height: 200px;max-width: 100%;overflow: auto;}#sk-container-id-1 input.sk-toggleable__control:checked~label.sk-toggleable__label-arrow:before {content: \"▾\";}#sk-container-id-1 div.sk-estimator input.sk-toggleable__control:checked~label.sk-toggleable__label {background-color: #d4ebff;}#sk-container-id-1 div.sk-label input.sk-toggleable__control:checked~label.sk-toggleable__label {background-color: #d4ebff;}#sk-container-id-1 input.sk-hidden--visually {border: 0;clip: rect(1px 1px 1px 1px);clip: rect(1px, 1px, 1px, 1px);height: 1px;margin: -1px;overflow: hidden;padding: 0;position: absolute;width: 1px;}#sk-container-id-1 div.sk-estimator {font-family: monospace;background-color: #f0f8ff;border: 1px dotted black;border-radius: 0.25em;box-sizing: border-box;margin-bottom: 0.5em;}#sk-container-id-1 div.sk-estimator:hover {background-color: #d4ebff;}#sk-container-id-1 div.sk-parallel-item::after {content: \"\";width: 100%;border-bottom: 1px solid gray;flex-grow: 1;}#sk-container-id-1 div.sk-label:hover label.sk-toggleable__label {background-color: #d4ebff;}#sk-container-id-1 div.sk-serial::before {content: \"\";position: absolute;border-left: 1px solid gray;box-sizing: border-box;top: 0;bottom: 0;left: 50%;z-index: 0;}#sk-container-id-1 div.sk-serial {display: flex;flex-direction: column;align-items: center;background-color: white;padding-right: 0.2em;padding-left: 0.2em;position: relative;}#sk-container-id-1 div.sk-item {position: relative;z-index: 1;}#sk-container-id-1 div.sk-parallel {display: flex;align-items: stretch;justify-content: center;background-color: white;position: relative;}#sk-container-id-1 div.sk-item::before, #sk-container-id-1 div.sk-parallel-item::before {content: \"\";position: absolute;border-left: 1px solid gray;box-sizing: border-box;top: 0;bottom: 0;left: 50%;z-index: -1;}#sk-container-id-1 div.sk-parallel-item {display: flex;flex-direction: column;z-index: 1;position: relative;background-color: white;}#sk-container-id-1 div.sk-parallel-item:first-child::after {align-self: flex-end;width: 50%;}#sk-container-id-1 div.sk-parallel-item:last-child::after {align-self: flex-start;width: 50%;}#sk-container-id-1 div.sk-parallel-item:only-child::after {width: 0;}#sk-container-id-1 div.sk-dashed-wrapped {border: 1px dashed gray;margin: 0 0.4em 0.5em 0.4em;box-sizing: border-box;padding-bottom: 0.4em;background-color: white;}#sk-container-id-1 div.sk-label label {font-family: monospace;font-weight: bold;display: inline-block;line-height: 1.2em;}#sk-container-id-1 div.sk-label-container {text-align: center;}#sk-container-id-1 div.sk-container {/* jupyter's `normalize.less` sets `[hidden] { display: none; }` but bootstrap.min.css set `[hidden] { display: none !important; }` so we also need the `!important` here to be able to override the default hidden behavior on the sphinx rendered scikit-learn.org. See: https://github.com/scikit-learn/scikit-learn/issues/21755 */display: inline-block !important;position: relative;}#sk-container-id-1 div.sk-text-repr-fallback {display: none;}</style><div id=\"sk-container-id-1\" class=\"sk-top-container\"><div class=\"sk-text-repr-fallback\"><pre>SVC(kernel=&#x27;linear&#x27;)</pre><b>In a Jupyter environment, please rerun this cell to show the HTML representation or trust the notebook. <br />On GitHub, the HTML representation is unable to render, please try loading this page with nbviewer.org.</b></div><div class=\"sk-container\" hidden><div class=\"sk-item\"><div class=\"sk-estimator sk-toggleable\"><input class=\"sk-toggleable__control sk-hidden--visually\" id=\"sk-estimator-id-1\" type=\"checkbox\" checked><label for=\"sk-estimator-id-1\" class=\"sk-toggleable__label sk-toggleable__label-arrow\">SVC</label><div class=\"sk-toggleable__content\"><pre>SVC(kernel=&#x27;linear&#x27;)</pre></div></div></div></div></div>"
            ]
          },
          "metadata": {},
          "execution_count": 21
        }
      ],
      "source": [
        "from sklearn import svm\n",
        "from sklearn.metrics import accuracy_score, confusion_matrix, ConfusionMatrixDisplay, classification_report\n",
        "\n",
        "# Classifier - Algorithm - SVM\n",
        "# fit the training dataset on the classifier\n",
        "SVM = svm.SVC(C=1.0, kernel='linear', decision_function_shape='ovr')\n",
        "\n",
        "\n",
        "train_labels = df_train['author']\n",
        "SVM.fit(train_vector, train_labels)"
      ]
    },
    {
      "cell_type": "code",
      "execution_count": null,
      "metadata": {
        "id": "6CTcCf8BthsK"
      },
      "outputs": [],
      "source": [
        "predictions_train_SVM = SVM.predict(train_vector)"
      ]
    },
    {
      "cell_type": "code",
      "source": [
        "cm = confusion_matrix(train_labels, predictions_train_SVM)\n",
        "disp = ConfusionMatrixDisplay(confusion_matrix=cm, display_labels=SVM.classes_)\n",
        "\n",
        "disp.plot()"
      ],
      "metadata": {
        "colab": {
          "base_uri": "https://localhost:8080/",
          "height": 466
        },
        "id": "sQEQ-spyCxtN",
        "outputId": "1963f792-19c5-4a59-e89a-7d10bae9ec6a"
      },
      "execution_count": null,
      "outputs": [
        {
          "output_type": "execute_result",
          "data": {
            "text/plain": [
              "<sklearn.metrics._plot.confusion_matrix.ConfusionMatrixDisplay at 0x7d25beca3820>"
            ]
          },
          "metadata": {},
          "execution_count": 23
        },
        {
          "output_type": "display_data",
          "data": {
            "text/plain": [
              "<Figure size 640x480 with 2 Axes>"
            ],
            "image/png": "[encoded data removed]"
          },
          "metadata": {}
        }
      ]
    },
    {
      "cell_type": "code",
      "source": [
        "print(classification_report(y_pred=predictions_train_SVM, y_true=train_labels))"
      ],
      "metadata": {
        "colab": {
          "base_uri": "https://localhost:8080/"
        },
        "id": "I8knfCwci6_d",
        "outputId": "4d9d96db-1414-471c-b568-69efe489badf"
      },
      "execution_count": null,
      "outputs": [
        {
          "output_type": "stream",
          "name": "stdout",
          "text": [
            "              precision    recall  f1-score   support\n",
            "\n",
            "         EAP       0.50      0.70      0.58      5538\n",
            "         HPL       0.44      0.43      0.43      3878\n",
            "         MWS       0.50      0.25      0.33      4385\n",
            "\n",
            "    accuracy                           0.48     13801\n",
            "   macro avg       0.48      0.46      0.45     13801\n",
            "weighted avg       0.48      0.48      0.46     13801\n",
            "\n"
          ]
        }
      ]
    },
    {
      "cell_type": "markdown",
      "source": [
        "Evaluation on test data"
      ],
      "metadata": {
        "id": "ht20lUiFW25x"
      }
    },
    {
      "cell_type": "code",
      "execution_count": null,
      "metadata": {
        "id": "_IZwaDpFtjyC"
      },
      "outputs": [],
      "source": [
        "test_labels = df_test['author']\n",
        "\n",
        "# predict the labels on test dataset\n",
        "predictions_SVM = SVM.predict(test_vector)"
      ]
    },
    {
      "cell_type": "code",
      "source": [
        "cm = confusion_matrix(test_labels, predictions_SVM)\n",
        "disp = ConfusionMatrixDisplay(confusion_matrix=cm, display_labels=SVM.classes_)\n",
        "\n",
        "disp.plot()"
      ],
      "metadata": {
        "colab": {
          "base_uri": "https://localhost:8080/",
          "height": 466
        },
        "id": "ocVxEDEzEF-C",
        "outputId": "74fa4587-fd95-48d4-93f2-a18a653f2ba9"
      },
      "execution_count": null,
      "outputs": [
        {
          "output_type": "execute_result",
          "data": {
            "text/plain": [
              "<sklearn.metrics._plot.confusion_matrix.ConfusionMatrixDisplay at 0x7d25beca3e80>"
            ]
          },
          "metadata": {},
          "execution_count": 26
        },
        {
          "output_type": "display_data",
          "data": {
            "text/plain": [
              "<Figure size 640x480 with 2 Axes>"
            ],
            "image/png": "[encoded data removed]"
          },
          "metadata": {}
        }
      ]
    },
    {
      "cell_type": "code",
      "source": [
        "print(classification_report(y_pred=predictions_SVM, y_true=test_labels))"
      ],
      "metadata": {
        "colab": {
          "base_uri": "https://localhost:8080/"
        },
        "id": "jBQ22p2ujfxp",
        "outputId": "545859ea-5ade-488d-9de4-a4b785de4278"
      },
      "execution_count": null,
      "outputs": [
        {
          "output_type": "stream",
          "name": "stdout",
          "text": [
            "              precision    recall  f1-score   support\n",
            "\n",
            "         EAP       0.50      0.64      0.56      1542\n",
            "         HPL       0.42      0.47      0.45      1145\n",
            "         MWS       0.48      0.27      0.34      1228\n",
            "\n",
            "    accuracy                           0.47      3915\n",
            "   macro avg       0.47      0.46      0.45      3915\n",
            "weighted avg       0.47      0.47      0.46      3915\n",
            "\n"
          ]
        }
      ]
    },
    {
      "cell_type": "markdown",
      "source": [
        "### Downsamplig"
      ],
      "metadata": {
        "id": "ic3B7UQxU7E0"
      }
    },
    {
      "cell_type": "code",
      "source": [
        "from sklearn.utils import resample\n",
        "\n",
        "downsample_EAP = resample(df_train[df_train['author']=='EAP'],\n",
        "             replace=True,\n",
        "             n_samples= int(len(df_train[df_train['author']!='EAP'])/2),\n",
        "             random_state=42)\n",
        "\n",
        "balanced_df_train = pd.concat([downsample_EAP, df_train[df_train['author']!='EAP']])\n",
        "len(balanced_df_train)"
      ],
      "metadata": {
        "colab": {
          "base_uri": "https://localhost:8080/"
        },
        "id": "zLJ2tIk5Q_jc",
        "outputId": "fbb819a0-a0f4-4a07-8560-f2f60db5c308"
      },
      "execution_count": null,
      "outputs": [
        {
          "output_type": "execute_result",
          "data": {
            "text/plain": [
              "12394"
            ]
          },
          "metadata": {},
          "execution_count": 28
        }
      ]
    },
    {
      "cell_type": "code",
      "source": [
        "bop_train = bag_of_pos(balanced_df_train['pos'].values, tagger)\n",
        "\n",
        "vectorizer = DictVectorizer()\n",
        "vectorizer.fit(bop_train)\n",
        "\n",
        "# summarize\n",
        "print(\"Vocabulary: \", vectorizer.vocabulary_)"
      ],
      "metadata": {
        "colab": {
          "base_uri": "https://localhost:8080/"
        },
        "id": "WZupqRD3SoAa",
        "outputId": "214eb6b2-dae2-44e5-9868-78502d28ce59"
      },
      "execution_count": null,
      "outputs": [
        {
          "output_type": "stream",
          "name": "stdout",
          "text": [
            "Vocabulary:  {'.': 0, 'ADJ': 1, 'ADP': 2, 'ADV': 3, 'CONJ': 4, 'DET': 5, 'NOUN': 6, 'NUM': 7, 'PRON': 8, 'PRT': 9, 'VERB': 10, 'X': 11}\n"
          ]
        }
      ]
    },
    {
      "cell_type": "code",
      "source": [
        "train_vector = vectorizer.transform(bag_of_pos(balanced_df_train['pos'].values, tagger))\n",
        "test_vector =  vectorizer.transform(bag_of_pos(df_test['pos'].values, tagger))"
      ],
      "metadata": {
        "id": "dbItv-NmSz_L"
      },
      "execution_count": null,
      "outputs": []
    },
    {
      "cell_type": "code",
      "source": [
        "SVM = svm.SVC(C=1.0, kernel='linear')\n",
        "\n",
        "\n",
        "train_labels = balanced_df_train['author']\n",
        "SVM.fit(train_vector, train_labels)"
      ],
      "metadata": {
        "colab": {
          "base_uri": "https://localhost:8080/",
          "height": 74
        },
        "id": "PHIhoAtwSu0t",
        "outputId": "8db89878-c100-4fce-ba57-33d0ff3552bb"
      },
      "execution_count": null,
      "outputs": [
        {
          "output_type": "execute_result",
          "data": {
            "text/plain": [
              "SVC(kernel='linear')"
            ],
            "text/html": [
              "<style>#sk-container-id-2 {color: black;background-color: white;}#sk-container-id-2 pre{padding: 0;}#sk-container-id-2 div.sk-toggleable {background-color: white;}#sk-container-id-2 label.sk-toggleable__label {cursor: pointer;display: block;width: 100%;margin-bottom: 0;padding: 0.3em;box-sizing: border-box;text-align: center;}#sk-container-id-2 label.sk-toggleable__label-arrow:before {content: \"▸\";float: left;margin-right: 0.25em;color: #696969;}#sk-container-id-2 label.sk-toggleable__label-arrow:hover:before {color: black;}#sk-container-id-2 div.sk-estimator:hover label.sk-toggleable__label-arrow:before {color: black;}#sk-container-id-2 div.sk-toggleable__content {max-height: 0;max-width: 0;overflow: hidden;text-align: left;background-color: #f0f8ff;}#sk-container-id-2 div.sk-toggleable__content pre {margin: 0.2em;color: black;border-radius: 0.25em;background-color: #f0f8ff;}#sk-container-id-2 input.sk-toggleable__control:checked~div.sk-toggleable__content {max-height: 200px;max-width: 100%;overflow: auto;}#sk-container-id-2 input.sk-toggleable__control:checked~label.sk-toggleable__label-arrow:before {content: \"▾\";}#sk-container-id-2 div.sk-estimator input.sk-toggleable__control:checked~label.sk-toggleable__label {background-color: #d4ebff;}#sk-container-id-2 div.sk-label input.sk-toggleable__control:checked~label.sk-toggleable__label {background-color: #d4ebff;}#sk-container-id-2 input.sk-hidden--visually {border: 0;clip: rect(1px 1px 1px 1px);clip: rect(1px, 1px, 1px, 1px);height: 1px;margin: -1px;overflow: hidden;padding: 0;position: absolute;width: 1px;}#sk-container-id-2 div.sk-estimator {font-family: monospace;background-color: #f0f8ff;border: 1px dotted black;border-radius: 0.25em;box-sizing: border-box;margin-bottom: 0.5em;}#sk-container-id-2 div.sk-estimator:hover {background-color: #d4ebff;}#sk-container-id-2 div.sk-parallel-item::after {content: \"\";width: 100%;border-bottom: 1px solid gray;flex-grow: 1;}#sk-container-id-2 div.sk-label:hover label.sk-toggleable__label {background-color: #d4ebff;}#sk-container-id-2 div.sk-serial::before {content: \"\";position: absolute;border-left: 1px solid gray;box-sizing: border-box;top: 0;bottom: 0;left: 50%;z-index: 0;}#sk-container-id-2 div.sk-serial {display: flex;flex-direction: column;align-items: center;background-color: white;padding-right: 0.2em;padding-left: 0.2em;position: relative;}#sk-container-id-2 div.sk-item {position: relative;z-index: 1;}#sk-container-id-2 div.sk-parallel {display: flex;align-items: stretch;justify-content: center;background-color: white;position: relative;}#sk-container-id-2 div.sk-item::before, #sk-container-id-2 div.sk-parallel-item::before {content: \"\";position: absolute;border-left: 1px solid gray;box-sizing: border-box;top: 0;bottom: 0;left: 50%;z-index: -1;}#sk-container-id-2 div.sk-parallel-item {display: flex;flex-direction: column;z-index: 1;position: relative;background-color: white;}#sk-container-id-2 div.sk-parallel-item:first-child::after {align-self: flex-end;width: 50%;}#sk-container-id-2 div.sk-parallel-item:last-child::after {align-self: flex-start;width: 50%;}#sk-container-id-2 div.sk-parallel-item:only-child::after {width: 0;}#sk-container-id-2 div.sk-dashed-wrapped {border: 1px dashed gray;margin: 0 0.4em 0.5em 0.4em;box-sizing: border-box;padding-bottom: 0.4em;background-color: white;}#sk-container-id-2 div.sk-label label {font-family: monospace;font-weight: bold;display: inline-block;line-height: 1.2em;}#sk-container-id-2 div.sk-label-container {text-align: center;}#sk-container-id-2 div.sk-container {/* jupyter's `normalize.less` sets `[hidden] { display: none; }` but bootstrap.min.css set `[hidden] { display: none !important; }` so we also need the `!important` here to be able to override the default hidden behavior on the sphinx rendered scikit-learn.org. See: https://github.com/scikit-learn/scikit-learn/issues/21755 */display: inline-block !important;position: relative;}#sk-container-id-2 div.sk-text-repr-fallback {display: none;}</style><div id=\"sk-container-id-2\" class=\"sk-top-container\"><div class=\"sk-text-repr-fallback\"><pre>SVC(kernel=&#x27;linear&#x27;)</pre><b>In a Jupyter environment, please rerun this cell to show the HTML representation or trust the notebook. <br />On GitHub, the HTML representation is unable to render, please try loading this page with nbviewer.org.</b></div><div class=\"sk-container\" hidden><div class=\"sk-item\"><div class=\"sk-estimator sk-toggleable\"><input class=\"sk-toggleable__control sk-hidden--visually\" id=\"sk-estimator-id-2\" type=\"checkbox\" checked><label for=\"sk-estimator-id-2\" class=\"sk-toggleable__label sk-toggleable__label-arrow\">SVC</label><div class=\"sk-toggleable__content\"><pre>SVC(kernel=&#x27;linear&#x27;)</pre></div></div></div></div></div>"
            ]
          },
          "metadata": {},
          "execution_count": 31
        }
      ]
    },
    {
      "cell_type": "code",
      "source": [
        "predictions_train_SVM = SVM.predict(train_vector)\n",
        "\n",
        "cm = confusion_matrix(train_labels, predictions_train_SVM)\n",
        "disp = ConfusionMatrixDisplay(confusion_matrix=cm, display_labels=SVM.classes_)\n",
        "\n",
        "disp.plot()\n",
        "plt.plot()\n",
        "print(classification_report(y_pred=predictions_train_SVM, y_true=train_labels))"
      ],
      "metadata": {
        "colab": {
          "base_uri": "https://localhost:8080/",
          "height": 623
        },
        "id": "fxkZ846hS9L2",
        "outputId": "4d6dcede-7900-4c1b-e339-5d8eab9db46e"
      },
      "execution_count": null,
      "outputs": [
        {
          "output_type": "stream",
          "name": "stdout",
          "text": [
            "              precision    recall  f1-score   support\n",
            "\n",
            "         EAP       0.48      0.55      0.51      4131\n",
            "         HPL       0.46      0.55      0.50      3878\n",
            "         MWS       0.51      0.35      0.42      4385\n",
            "\n",
            "    accuracy                           0.48     12394\n",
            "   macro avg       0.48      0.48      0.48     12394\n",
            "weighted avg       0.48      0.48      0.47     12394\n",
            "\n"
          ]
        },
        {
          "output_type": "display_data",
          "data": {
            "text/plain": [
              "<Figure size 640x480 with 2 Axes>"
            ],
            "image/png": "[encoded data removed]"
          },
          "metadata": {}
        }
      ]
    },
    {
      "cell_type": "code",
      "source": [
        "test_labels = df_test['author']\n",
        "\n",
        "# predict the labels on test dataset\n",
        "predictions_SVM = SVM.predict(test_vector)\n",
        "\n",
        "\n",
        "cm = confusion_matrix(test_labels, predictions_SVM)\n",
        "disp = ConfusionMatrixDisplay(confusion_matrix=cm, display_labels=SVM.classes_)\n",
        "\n",
        "disp.plot()\n",
        "plt.plot()\n",
        "print(classification_report(y_pred=predictions_SVM, y_true=test_labels))"
      ],
      "metadata": {
        "colab": {
          "base_uri": "https://localhost:8080/",
          "height": 623
        },
        "id": "jhn4UPM7TL4O",
        "outputId": "6a0a1a16-c328-4739-ed3b-f3f3357ad9c3"
      },
      "execution_count": null,
      "outputs": [
        {
          "output_type": "stream",
          "name": "stdout",
          "text": [
            "              precision    recall  f1-score   support\n",
            "\n",
            "         EAP       0.54      0.49      0.51      1542\n",
            "         HPL       0.42      0.57      0.48      1145\n",
            "         MWS       0.45      0.35      0.40      1228\n",
            "\n",
            "    accuracy                           0.47      3915\n",
            "   macro avg       0.47      0.47      0.46      3915\n",
            "weighted avg       0.48      0.47      0.47      3915\n",
            "\n"
          ]
        },
        {
          "output_type": "display_data",
          "data": {
            "text/plain": [
              "<Figure size 640x480 with 2 Axes>"
            ],
            "image/png": "[encoded data removed]"
          },
          "metadata": {}
        }
      ]
    }
  ],
  "metadata": {
    "colab": {
      "provenance": [],
      "authorship_tag": "ABX9TyPDPhG1TBp3c0JsBXFbIL4s",
      "include_colab_link": true
    },
    "kernelspec": {
      "display_name": "Python 3",
      "name": "python3"
    },
    "language_info": {
      "name": "python"
    }
  },
  "nbformat": 4,
  "nbformat_minor": 0
}