{
  "nbformat": 4,
  "nbformat_minor": 0,
  "metadata": {
    "colab": {
      "provenance": [],
      "toc_visible": true,
      "authorship_tag": "ABX9TyMX2H5l4R4zJPP1Bqh4Sa4t",
      "include_colab_link": true
    },
    "kernelspec": {
      "name": "python3",
      "display_name": "Python 3"
    },
    "language_info": {
      "name": "python"
    }
  },
  "cells": [
    {
      "cell_type": "markdown",
      "metadata": {
        "id": "view-in-github",
        "colab_type": "text"
      },
      "source": [
        "<a href=\"https://colab.research.google.com/github/elenasofia98/PracticalNLP-2023-2024/blob/main/HoL05_2_FrameNet.ipynb\" target=\"_parent\"><img src=\"https://colab.research.google.com/assets/colab-badge.svg\" alt=\"Open In Colab\"/></a>"
      ]
    },
    {
      "cell_type": "markdown",
      "source": [
        "# FrameNet\n",
        "The FrameNet corpus is a lexical database of English that is both human- and machine-readable, based on annotating examples of how words are used in actual texts.\n",
        "\n",
        "FrameNet is based on a theory of meaning called Frame Semantics, deriving from the work of Charles J. Fillmore and colleagues.\n",
        "\n",
        "The basic idea is straightforward: that the meanings of most words can best be understood on the basis of a semantic frame: a description of a type of event, relation, or entity and the participants in it. For example, the concept of cooking typically involves a person doing the cooking (Cook), the food that is to be cooked (Food), something to hold the food while cooking (Container) and a source of heat (Heating_instrument).\n",
        "\n",
        "In the FrameNet project, this is represented as a frame called Apply_heat, and the Cook, Food, Heating_instrument and Container are called frame elements (FEs).\n",
        "\n",
        "Words that evoke this frame, such as fry, bake, boil, and broil, are called lexical units (LUs) of the Apply_heat frame.\n",
        "\n",
        "\n",
        "The job of FrameNet is to define the frames and to annotate sentences to show how the FEs fit syntactically around the word that evokes the frame."
      ],
      "metadata": {
        "id": "8T9RYOeLcHQr"
      }
    },
    {
      "cell_type": "code",
      "execution_count": null,
      "metadata": {
        "colab": {
          "base_uri": "https://localhost:8080/"
        },
        "id": "_Goi32TtbBJk",
        "outputId": "bde35716-c96a-45db-9563-8df163abb36a"
      },
      "outputs": [
        {
          "output_type": "stream",
          "name": "stderr",
          "text": [
            "[nltk_data] Downloading package framenet_v17 to /root/nltk_data...\n",
            "[nltk_data]   Unzipping corpora/framenet_v17.zip.\n"
          ]
        },
        {
          "output_type": "execute_result",
          "data": {
            "text/plain": [
              "True"
            ]
          },
          "metadata": {},
          "execution_count": 1
        }
      ],
      "source": [
        "import nltk\n",
        "nltk.download('framenet_v17')"
      ]
    },
    {
      "cell_type": "code",
      "source": [
        "from nltk.corpus import framenet as fn"
      ],
      "metadata": {
        "id": "lEBKOeOFbMzd"
      },
      "execution_count": null,
      "outputs": []
    },
    {
      "cell_type": "code",
      "source": [
        "noise_frames = fn.frames('noise')\n",
        "\n",
        "\n",
        "display(noise_frames)\n",
        "display([f.name for f in noise_frames])"
      ],
      "metadata": {
        "colab": {
          "base_uri": "https://localhost:8080/",
          "height": 52
        },
        "id": "XOCPHt2ObeJj",
        "outputId": "deac37ed-0c12-48f5-f2f0-65b55fa52a86"
      },
      "execution_count": null,
      "outputs": [
        {
          "output_type": "display_data",
          "data": {
            "text/plain": [
              "[<frame ID=801 name=Cause_to_make_noise>, <frame ID=39 name=Communication_noise>, ...]"
            ]
          },
          "metadata": {}
        },
        {
          "output_type": "display_data",
          "data": {
            "text/plain": [
              "['Cause_to_make_noise', 'Communication_noise', 'Make_noise', 'Motion_noise']"
            ]
          },
          "metadata": {}
        }
      ]
    },
    {
      "cell_type": "code",
      "source": [
        "#attributes of the frame: for aframe f, access as f.definition\n",
        "\n",
        "fn.frame('Make_noise')"
      ],
      "metadata": {
        "colab": {
          "base_uri": "https://localhost:8080/"
        },
        "id": "kh6psO0sbrET",
        "outputId": "36dc6fb6-60b1-460c-9be1-277ae3dd5047"
      },
      "execution_count": null,
      "outputs": [
        {
          "output_type": "execute_result",
          "data": {
            "text/plain": [
              "frame (69): Make_noise\n",
              "\n",
              "[URL] https://framenet2.icsi.berkeley.edu/fnReports/data/frame/Make_noise.xml\n",
              "\n",
              "[definition]\n",
              "  A physical entity, construed as a point-Sound_source, emits a\n",
              "  Sound.  This includes animals and people making noise with their\n",
              "  vocal tracts. Sometimes the sound itself is referred to with a\n",
              "  nominal expression, in which case it is called the Sound. Manner\n",
              "  expressions may also be relevant in this frame, if they describe\n",
              "  properties of the sound as such.  A path-schema can be overlaid\n",
              "  on the simple noise-making scene, adding a Location_of_source\n",
              "  and/or a Path.   This frame does not cover scenarios where\n",
              "  objects create sound by coming into forceful contact with one\n",
              "  another or rubbing against each other. Such scenarios are covered\n",
              "  by the Impact and Friction frames. The current frame also does\n",
              "  not cover cases where an animate Agent or a natural Force or\n",
              "  Cause causes a single Source or several Sources (moving or\n",
              "  rubbing against each other) to make noise. Such scenarios are\n",
              "  covered by the Cause_to_make_noise, Cause_impact and\n",
              "  Cause_friction frames (the latter of which is not yet existent).\n",
              "  Cases where the major emphasis of the portrayed scene is on the\n",
              "  motion of a Theme, with sound emission only an accompaniment, are\n",
              "  covered by the Motion_noise frame. Likewise, cases where the\n",
              "  Sound itself is portrayed as moving through space are not covered\n",
              "  in this frame but rather in Sound_movement. Finally, all nouns\n",
              "  used to evoke Sounds have been placed in the Sounds frame. We\n",
              "  have done this because these nouns do  not denote sound\n",
              "  emission/production events but only the Sound itself (*The\n",
              "  siren's blare occurred right on time).\n",
              "\n",
              "[semTypes] 0 semantic types\n",
              "\n",
              "[frameRelations] 18 frame relations\n",
              "  <Parent=Make_noise -- Using -> Child=Communication_noise>\n",
              "  <Parent=Perception -- Using -> Child=Make_noise>\n",
              "  <MainEntry=Make_noise -- See_also -> ReferringEntry=Cause_impact>\n",
              "  <MainEntry=Make_noise -- See_also -> ReferringEntry=Cause_to_make_noise>\n",
              "  <MainEntry=Make_noise -- See_also -> ReferringEntry=Friction>\n",
              "  <MainEntry=Make_noise -- See_also -> ReferringEntry=Impact>\n",
              "  <MainEntry=Make_noise -- See_also -> ReferringEntry=Motion_noise>\n",
              "  <MainEntry=Make_noise -- See_also -> ReferringEntry=Sound_movement>\n",
              "  <MainEntry=Make_noise -- See_also -> ReferringEntry=Sounds>\n",
              "  <Source=Cause_impact -- ReFraming_Mapping -> Target=Make_noise>\n",
              "  <Source=Make_noise -- ReFraming_Mapping -> Target=Absorb_heat>\n",
              "  <Source=Make_noise -- ReFraming_Mapping -> Target=Cause_to_make_noise>\n",
              "  <Source=Make_noise -- ReFraming_Mapping -> Target=Fluidic_motion>\n",
              "  <Source=Make_noise -- ReFraming_Mapping -> Target=Friction>\n",
              "  <Source=Make_noise -- ReFraming_Mapping -> Target=Impact>\n",
              "  <Source=Make_noise -- ReFraming_Mapping -> Target=Motion_noise>\n",
              "  <Source=Make_noise -- ReFraming_Mapping -> Target=Sounds>\n",
              "  <Causative=Cause_to_make_noise -- Causative_of -> Inchoative/state=Make_noise>\n",
              "\n",
              "[lexUnit] 105 lexical units\n",
              "  babble.v (1340), bark.v (1342), beep.v (9423), bellow.v (1344),\n",
              "  blare.v (1346), blast.v (1348), bleat.v (1350), boom.v (13541),\n",
              "  bray.v (1354), burble.v (1356), cackle.v (1359), caterwaul.v\n",
              "  (1360), caw.v (1362), chatter.v (1366), cheep.v (1368), chirp.v\n",
              "  (1370), chuckle.v (1374), clack.v (9162), clang.v (1376), clash.v\n",
              "  (1378), clatter.v (1380), click.v (1382), coo.v (1386), cough.v\n",
              "  (1388), creak.v (1390), crepitate.v (6435), croak.v (1392),\n",
              "  croon.v (1393), crunch.v (1395), cry.v (15062), drone.v (1397),\n",
              "  fizzle.v (1398), gasp.v (1400), giggle.v (1402), gobble.v (1403),\n",
              "  growl.v (1407), grunt.v (1409), guffaw.v (1411), gurgle.v (1413),\n",
              "  hawk.v (1414), hem and haw.v (11234), hiss.v (1416), honk.v\n",
              "  (17570), hoot.v (1418), howl.v (1420), hum.v (1422), keen.v\n",
              "  (1423), laugh.v (8720), mew.v (1425), mewl.v (1426), moan.v\n",
              "  (1428), moo.v (1429), neigh.v (1431), patter.v (1433), peal.v\n",
              "  (1435), peep.v (1437), plash.v (1439), play.v (17571), plonk.v\n",
              "  (1440), plop.v (1442), purr.v (1446), quack.v (1448), rasp.v\n",
              "  (1452), rattle.v (1453), ring.v (9292), roar.v (1455), rustle.v\n",
              "  (1459), scrape.v (1461), scream.v (9174), screech.v (1463),\n",
              "  scrunch.v (1465), sizzle.v (1467), snarl.v (1474), snicker.v\n",
              "  (1475), snigger.v (1477), snore.v (1479), snort.v (1481), sob.v\n",
              "  (1483), sough.v (1485), sound.v (15357), sploosh.v (9163),\n",
              "  squawk.v (1487), squeak.v (1489), squeal.v (1491), thump.v\n",
              "  (1493), thunder.v (1495), tinkle.v (1497), titter.v (1499),\n",
              "  toll.v (1501), toot.v (17572), trumpet.v (1503), tweet.v (1505),\n",
              "  twitter.v (1507), ululate.v (1508), wail.v (1510), whimper.v\n",
              "  (1512), whine.v (1514), whinny.v (1516), whisper.v (1517),\n",
              "  whistle.v (1519), yammer.v (1521), yap.v (1523), yelp.v (1525),\n",
              "  yodel.v (1527), yowl.v (1529)\n",
              "\n",
              "\n",
              "[FE] 17 frame elements\n",
              "            Core: Noisy_event (5052), Sound (328), Sound_source (323)\n",
              "      Peripheral: Degree (1501), Manner (329), Place (5080), Time (6327)\n",
              "  Extra-Thematic: Addressee (5051), Circumstances (5290), Depictive (1502), Explanation (326), Internal_cause (1505), Iterations (10563), Location_of_protagonist (330), Particular_iteration (10564), Path (5053), Subregion (4521)\n",
              "\n",
              "[FEcoreSets] 1 frame element core sets\n",
              "  Noisy_event, Sound_source"
            ]
          },
          "metadata": {},
          "execution_count": 4
        }
      ]
    },
    {
      "cell_type": "markdown",
      "source": [
        "A lexical unit (LU) is a pairing of a word with a meaning.\n",
        "\n",
        "For example, the “Apply_heat” Frame describes a common situation involving a Cook, some Food, and a Heating Instrument, and is _evoked_ by words such as bake, blanch, boil, broil, brown, simmer, steam, etc. These frame-evoking words are the LUs in the Apply_heat frame. Each sense of a polysemous word is a different LU."
      ],
      "metadata": {
        "id": "9WNXpYhceJ6T"
      }
    },
    {
      "cell_type": "code",
      "source": [
        "fn.frame('Make_noise').lexUnit['click.v']"
      ],
      "metadata": {
        "colab": {
          "base_uri": "https://localhost:8080/"
        },
        "id": "TrDTzvHYeILn",
        "outputId": "45b6c4fc-e4ef-4c2a-db4d-ff6768d53561"
      },
      "execution_count": null,
      "outputs": [
        {
          "output_type": "execute_result",
          "data": {
            "text/plain": [
              "lexical unit (1382): click.v\n",
              "\n",
              "[definition]\n",
              "  FN: to emit a short, sharp sound\n",
              "\n",
              "[frame] Make_noise(69)\n",
              "\n",
              "[incorporatedFE] Sound\n",
              "\n",
              "[POS] V\n",
              "\n",
              "[status] FN1_Sent\n",
              "\n",
              "[lexemes] click/V\n",
              "\n",
              "[semTypes] 0 semantic types\n",
              "\n",
              "[URL] https://framenet2.icsi.berkeley.edu/fnReports/data/lu/lu1382.xml\n",
              "\n",
              "[subCorpus] 1 subcorpora\n",
              "  NoPattern\n",
              "\n",
              "[exemplars] 11 sentences across all subcorpora"
            ]
          },
          "metadata": {},
          "execution_count": 5
        }
      ]
    }
  ]
}